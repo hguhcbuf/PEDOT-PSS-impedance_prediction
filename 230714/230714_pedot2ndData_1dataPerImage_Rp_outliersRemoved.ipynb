{
 "cells": [
  {
   "cell_type": "code",
   "execution_count": 1,
   "id": "d1f356e2",
   "metadata": {},
   "outputs": [],
   "source": [
    "import csv\n",
    "import tensorflow as tf\n",
    "import matplotlib.pyplot as plt\n",
    "import cv2\n",
    "import os\n",
    "import numpy as np\n",
    "from tensorflow.keras.preprocessing.image import ImageDataGenerator\n",
    "from tensorflow.keras.utils import load_img\n",
    "from PIL import Image\n",
    "from tensorflow import keras\n",
    "from glob import glob\n",
    "import pandas as pd\n",
    "import imutils\n",
    "from scipy.spatial import distance as dist\n",
    "from imutils import perspective\n",
    "from imutils import contours\n",
    "import argparse\n",
    "from sklearn.preprocessing import StandardScaler\n",
    "from sklearn.preprocessing import MinMaxScaler\n",
    "from sklearn.model_selection import train_test_split\n",
    "from keras.callbacks import ModelCheckpoint, EarlyStopping\n",
    "from sklearn.metrics import mean_squared_error"
   ]
  },
  {
   "cell_type": "markdown",
   "id": "6f038428",
   "metadata": {},
   "source": [
    "# 2차로 추가로 받은 데이터입니다\n",
    "\n",
    "## imp = Rp\n",
    "\n",
    "## imp > 10000 인 데이터 삭제"
   ]
  },
  {
   "cell_type": "markdown",
   "id": "28c4441e",
   "metadata": {},
   "source": [
    "# Data Pre-processing"
   ]
  },
  {
   "cell_type": "code",
   "execution_count": 2,
   "id": "1e21593e",
   "metadata": {},
   "outputs": [
    {
     "name": "stdout",
     "output_type": "stream",
     "text": [
      "file :  Generic C-f [(1) _30, 1, no.6_; 7_3_2023 1_46_05 PM].csv     imp :  5231.247\n",
      "file :  Generic C-f [(1) _40, 1, no.5_; 7_3_2023 1_26_50 PM].csv     imp :  3377.876\n",
      "file :  Generic C-f [(10) _40, 3, no.5_; 7_3_2023 1_30_34 PM].csv     imp :  8857.827\n",
      "file :  Generic C-f [(10) _70, 3, no.5_; 7_3_2023 12_16_08 PM].csv     imp :  1945.563\n",
      "file :  Generic C-f [(100) _60, 7, no.6_; 7_3_2023 12_51_06 PM].csv     imp :  3908.265\n",
      "file :  Generic C-f [(104) _60, 9, no.1_; 7_3_2023 12_52_21 PM].csv     imp :  7000.179\n",
      "file :  Generic C-f [(105) _60, 9, no.2_; 7_3_2023 12_53_00 PM].csv     imp :  4737.585\n",
      "file :  Generic C-f [(106) _60, 9, no.3_; 7_3_2023 12_53_29 PM].csv     imp :  3954.343\n",
      "file :  Generic C-f [(11) _70, 3, no.6_; 7_3_2023 12_16_39 PM].csv     imp :  1859.064\n",
      "file :  Generic C-f [(110) _60, 9, no.4_; 7_3_2023 12_54_13 PM].csv     imp :  4746.952\n",
      "file :  Generic C-f [(111) _60, 9, no.5_; 7_3_2023 12_54_41 PM].csv     imp :  4164.22\n",
      "file :  Generic C-f [(112) _60, 9, no.6_; 7_3_2023 12_55_06 PM].csv     imp :  3820.002\n",
      "file :  Generic C-f [(115) _50, 1, no.1_; 7_3_2023 12_56_44 PM].csv     imp :  1843.862\n",
      "file :  Generic C-f [(117) _50, 1, no.2_; 7_3_2023 12_57_18 PM].csv     imp :  2275.74\n",
      "file :  Generic C-f [(12) _70, 3, no.7_; 7_3_2023 12_17_27 PM].csv     imp :  2172.89\n",
      "file :  Generic C-f [(127) _50, 1, no.3_; 7_3_2023 12_58_47 PM].csv     imp :  1644.439\n",
      "file :  Generic C-f [(128) _50, 1, no.4_; 7_3_2023 12_59_19 PM].csv     imp :  1240.641\n",
      "file :  Generic C-f [(13) _70, 5, no.1_; 7_3_2023 12_18_33 PM].csv     imp :  2959.105\n",
      "file :  Generic C-f [(131) _50, 1, no.5_; 7_3_2023 1_00_08 PM].csv     imp :  1381.511\n",
      "file :  Generic C-f [(132) _50, 1, no.6_; 7_3_2023 1_00_38 PM].csv     imp :  1554.557\n",
      "file :  Generic C-f [(135) _50, 1, no.7_; 7_3_2023 1_01_35 PM].csv     imp :  2575.6\n",
      "file :  Generic C-f [(137) _50, 3, no.1_; 7_3_2023 1_02_20 PM].csv     imp :  2772.733\n",
      "file :  Generic C-f [(139) _50, 3, no.2_; 7_3_2023 1_03_07 PM].csv     imp :  2240.342\n",
      "file :  Generic C-f [(14) _70, 5, no.2_; 7_3_2023 12_19_06 PM].csv     imp :  2612.709\n",
      "file :  Generic C-f [(141) _50, 3, no.3_; 7_3_2023 1_03_37 PM].csv     imp :  2912.904\n",
      "file :  Generic C-f [(143) _50, 3, no.4_; 7_3_2023 1_08_07 PM].csv     imp :  2861.57\n",
      "file :  Generic C-f [(145) _50, 3, no.5_; 7_3_2023 1_08_41 PM].csv     imp :  2844.906\n",
      "file :  Generic C-f [(148) _50, 3, no.6_; 7_3_2023 1_09_16 PM].csv     imp :  3314.639\n",
      "file :  Generic C-f [(151) _50, 3, no.7_; 7_3_2023 1_09_51 PM].csv     imp :  3512.432\n",
      "file :  Generic C-f [(159) _50, 5, no.2_; 7_3_2023 1_11_43 PM].csv     imp :  3981.645\n",
      "file :  Generic C-f [(16) _70, 5, no.3_; 7_3_2023 12_19_58 PM].csv     imp :  1765.926\n",
      "file :  Generic C-f [(160) _50, 5, no.3_; 7_3_2023 1_12_10 PM].csv     imp :  3858.241\n",
      "file :  Generic C-f [(162) _50, 5, no.4_; 7_3_2023 1_12_44 PM].csv     imp :  3478.696\n",
      "file :  Generic C-f [(164) _50, 5, no.5_; 7_3_2023 1_13_20 PM].csv     imp :  3635.042\n",
      "file :  Generic C-f [(166) _50, 5, no.6_; 7_3_2023 1_13_55 PM].csv     imp :  3626.651\n",
      "file :  Generic C-f [(169) _50, 5, no.7_; 7_3_2023 1_14_30 PM].csv     imp :  4450.16\n",
      "file :  Generic C-f [(17) _70, 5, no.4_; 7_3_2023 12_20_34 PM].csv     imp :  2208.529\n",
      "file :  Generic C-f [(173) _50, 7, no.2_; 7_3_2023 1_15_32 PM].csv     imp :  7602.973\n",
      "file :  Generic C-f [(175) _50, 7, no.3_; 7_3_2023 1_16_07 PM].csv     imp :  5677.592\n",
      "file :  Generic C-f [(178) _50, 7, no.4_; 7_3_2023 1_16_55 PM].csv     imp :  6096.297\n",
      "file :  Generic C-f [(18) _70, 5, no.5_; 7_3_2023 12_21_03 PM].csv     imp :  2339.926\n",
      "file :  Generic C-f [(181) _50, 7, no.5_; 7_3_2023 1_17_36 PM].csv     imp :  5544.959\n",
      "file :  Generic C-f [(186) _50, 7, no.7_; 7_3_2023 1_18_59 PM].csv     imp :  5571.745\n",
      "file :  Generic C-f [(19) _70, 5, no.6_; 7_3_2023 12_21_34 PM].csv     imp :  2199.564\n",
      "file :  Generic C-f [(192) _50, 9, no.1_; 7_3_2023 1_20_19 PM].csv     imp :  8714.445\n",
      "file :  Generic C-f [(194) _50, 9, no.2_; 7_3_2023 1_20_49 PM].csv     imp :  7755.756\n",
      "file :  Generic C-f [(195) _50, 9, no.3_; 7_3_2023 1_21_20 PM].csv     imp :  7701.342\n",
      "file :  Generic C-f [(196) _50, 9, no.4_; 7_3_2023 1_21_47 PM].csv     imp :  7612.986\n",
      "file :  Generic C-f [(197) _50, 9, no.5_; 7_3_2023 1_22_11 PM].csv     imp :  6153.789\n",
      "file :  Generic C-f [(198) _50, 9, no.6_; 7_3_2023 1_22_36 PM].csv     imp :  6405.863\n",
      "file :  Generic C-f [(199) _50, 9, no.7_; 7_3_2023 1_23_01 PM].csv     imp :  6425.207\n",
      "file :  Generic C-f [(2) _30, 1, no.3_; 7_3_2023 1_43_50 PM].csv     imp :  4397.818\n",
      "file :  Generic C-f [(2) _30, 1, no.7_; 7_3_2023 1_46_36 PM].csv     imp :  4061.738\n",
      "file :  Generic C-f [(206) _40, 1, no.1_; 7_3_2023 1_24_48 PM].csv     imp :  4606.915\n",
      "file :  Generic C-f [(207) _40, 1, no.2_; 7_3_2023 1_25_11 PM].csv     imp :  3535.562\n",
      "file :  Generic C-f [(21) _70, 5, no.7_; 7_3_2023 12_22_14 PM].csv     imp :  2800.054\n",
      "file :  Generic C-f [(210) _40, 1, no.3_; 7_3_2023 1_25_46 PM].csv     imp :  5333.532\n",
      "file :  Generic C-f [(211) _40, 1, no.4_; 7_3_2023 1_26_06 PM].csv     imp :  3378.738\n",
      "file :  Generic C-f [(23) _70, 7, no.1_; 7_3_2023 12_23_13 PM].csv     imp :  4611.196\n",
      "file :  Generic C-f [(24) _70, 7, no.2_; 7_3_2023 12_23_40 PM].csv     imp :  4018.259\n",
      "file :  Generic C-f [(25) _70, 7, no.3_; 7_3_2023 12_24_13 PM].csv     imp :  2746.706\n",
      "file :  Generic C-f [(27) _70, 7, no.4_; 7_3_2023 12_25_01 PM].csv     imp :  2375.808\n",
      "file :  Generic C-f [(28) _70, 7, no.5_; 7_3_2023 12_25_32 PM].csv     imp :  3059.128\n",
      "file :  Generic C-f [(3) _30, 1, no.4_; 7_3_2023 1_44_38 PM].csv     imp :  4603.702\n",
      "file :  Generic C-f [(3) _40, 1, no.6_; 7_3_2023 1_27_25 PM].csv     imp :  3950.157\n",
      "file :  Generic C-f [(3) _40, 3, no.1_; 7_3_2023 1_28_51 PM].csv     imp :  8726.08\n",
      "file :  Generic C-f [(31) _70, 7, no.6_; 7_3_2023 12_26_36 PM].csv     imp :  2669.835\n",
      "file :  Generic C-f [(33) _70, 7, no.7_; 7_3_2023 12_27_28 PM].csv     imp :  3443.147\n",
      "file :  Generic C-f [(34) _70, 9, no.1_; 7_3_2023 12_28_01 PM].csv     imp :  4882.789\n",
      "file :  Generic C-f [(35) _70, 9, no.2_; 7_3_2023 12_28_25 PM].csv     imp :  3636.377\n",
      "file :  Generic C-f [(36) _70, 9 , no.3_; 7_3_2023 12_28_56 PM].csv     imp :  3730.118\n",
      "file :  Generic C-f [(37) _70, 9 , no.4_; 7_3_2023 12_29_20 PM].csv     imp :  3286.992\n",
      "file :  Generic C-f [(38) _70, 9, no.5_; 7_3_2023 12_29_57 PM].csv     imp :  3628.269\n",
      "file :  Generic C-f [(4) _30, 1, no.5_; 7_3_2023 1_45_28 PM].csv     imp :  5324.346\n",
      "file :  Generic C-f [(4) _40, 3, no.2_; 7_3_2023 1_29_17 PM].csv     imp :  8666.6\n",
      "file :  Generic C-f [(40) _70, 9, no.6_; 7_3_2023 12_30_40 PM].csv     imp :  3836.599\n",
      "file :  Generic C-f [(47) _60, 1, no.1_; 7_3_2023 12_33_15 PM].csv     imp :  1343.553\n",
      "file :  Generic C-f [(48) _60, 1, no.2_; 7_3_2023 12_33_47 PM].csv     imp :  1034.661\n",
      "file :  Generic C-f [(5) _70, 3, no.1_; 7_3_2023 12_13_14 PM].csv     imp :  1618.935\n",
      "file :  Generic C-f [(52) _60, 1, no.3_; 7_3_2023 12_35_40 PM].csv     imp :  717.955\n",
      "file :  Generic C-f [(53) _60, 1, no.4_; 7_3_2023 12_36_05 PM].csv     imp :  843.597\n",
      "file :  Generic C-f [(54) _60, 1, no.5_; 7_3_2023 12_36_34 PM].csv     imp :  959.753\n",
      "file :  Generic C-f [(55) _60, 1, no.6_; 7_3_2023 12_37_06 PM].csv     imp :  856.858\n",
      "file :  Generic C-f [(58) _60, 3, no.1_; 7_3_2023 12_38_07 PM].csv     imp :  1669.588\n",
      "file :  Generic C-f [(6) _30, 1, no.1_; 7_3_2023 1_42_40 PM].csv     imp :  4737.204\n",
      "file :  Generic C-f [(6) _40, 1, no.7_; 7_3_2023 1_28_01 PM].csv     imp :  3297.577\n",
      "file :  Generic C-f [(60) _60, 3, no.2_; 7_3_2023 12_38_38 PM].csv     imp :  1486.403\n",
      "file :  Generic C-f [(61) _60, 3, no.3_; 7_3_2023 12_39_06 PM].csv     imp :  1745.003\n",
      "file :  Generic C-f [(63) _60, 3, no.4_; 7_3_2023 12_39_52 PM].csv     imp :  1311.518\n",
      "file :  Generic C-f [(65) _60, 3, no.5_; 7_3_2023 12_40_22 PM].csv     imp :  1437.081\n",
      "file :  Generic C-f [(67) _60, 3, no.6_; 7_3_2023 12_41_00 PM].csv     imp :  1400.845\n",
      "file :  Generic C-f [(7) _30, 1, no.2_; 7_3_2023 1_43_07 PM].csv     imp :  4081.216\n",
      "file :  Generic C-f [(7) _70, 3, no.2_; 7_3_2023 12_14_19 PM].csv     imp :  2216.044\n",
      "file :  Generic C-f [(70) _60, 3, no.7_; 7_3_2023 12_41_46 PM].csv     imp :  1898.47\n",
      "file :  Generic C-f [(73) _60, 5, no.1_; 7_3_2023 12_42_38 PM].csv     imp :  2777.461\n",
      "file :  Generic C-f [(75) _60, 5, no.2_; 7_3_2023 12_43_07 PM].csv     imp :  3159.188\n",
      "file :  Generic C-f [(77) _60, 5, no.3_; 7_3_2023 12_43_41 PM].csv     imp :  3250.267\n",
      "file :  Generic C-f [(79) _60, 5, no.4_; 7_3_2023 12_44_09 PM].csv     imp :  3017.693\n",
      "file :  Generic C-f [(8) _70, 3, no.3_; 7_3_2023 12_14_51 PM].csv     imp :  1688.875\n",
      "file :  Generic C-f [(82) _60, 5, no.5_; 7_3_2023 12_44_50 PM].csv     imp :  2355.416\n",
      "file :  Generic C-f [(86) _60, 5, no.6_; 7_3_2023 12_45_32 PM].csv     imp :  4104.619\n",
      "file :  Generic C-f [(9) _40, 3, no.4_; 7_3_2023 1_30_10 PM].csv     imp :  7529.553\n",
      "file :  Generic C-f [(9) _70, 3, no.4_; 7_3_2023 12_15_20 PM].csv     imp :  1482.833\n",
      "file :  Generic C-f [(92) _60, 7, no.1_; 7_3_2023 12_46_49 PM].csv     imp :  5369.113\n",
      "file :  Generic C-f [(93) _60, 7, no.2_; 7_3_2023 12_47_33 PM].csv     imp :  5011.778\n",
      "file :  Generic C-f [(94) _60, 7, no.3_; 7_3_2023 12_48_06 PM].csv     imp :  4139.381\n",
      "file :  Generic C-f [(95) _60, 7, no.4_; 7_3_2023 12_48_33 PM].csv     imp :  3398.869\n",
      "file :  Generic C-f [(97) _60, 7, no.5_; 7_3_2023 12_49_07 PM].csv     imp :  2791.39\n"
     ]
    }
   ],
   "source": [
    "#각 엑셀 파일에서 Rp, Rs 값 추출\n",
    "\n",
    "file_names_list = []\n",
    "imp_list = []\n",
    "dir = \"data_files/0713/excel_files\"\n",
    "\n",
    "for file in os.listdir(dir):\n",
    "    file_name = dir + \"/\" + file\n",
    "    f = open(file_name,'r', encoding='UTF8')\n",
    "    rdr = list(csv.reader(f))\n",
    "    Rp = round(float(rdr[120][8])/5, 3)\n",
    "    #Rs = round(float(rdr[120][10])/5, 3)\n",
    "    imp = Rp\n",
    "    if imp > 10000:\n",
    "        continue\n",
    "    file_names_list.append(file.split(\"_\")[1].replace(\" \", \"\").replace(\",\", \"\").replace(\".\", \"\"))\n",
    "    imp_list.append(imp)\n",
    "    \n",
    "    print(\"file : \", file, \"    imp : \", imp)\n",
    "    \n",
    "    f.close()\n"
   ]
  },
  {
   "cell_type": "code",
   "execution_count": 3,
   "id": "9eeebe71",
   "metadata": {},
   "outputs": [],
   "source": [
    "# save cropped images with impedance values on their file names"
   ]
  },
  {
   "cell_type": "code",
   "execution_count": 4,
   "id": "c43ed998",
   "metadata": {},
   "outputs": [
    {
     "name": "stdout",
     "output_type": "stream",
     "text": [
      "cannot find excel file for : 30, 3, no.1.jpg\n",
      "cannot find excel file for : 30, 3, no.2.jpg\n",
      "cannot find excel file for : 30, 3, no.3.jpg\n",
      "cannot find excel file for : 30, 3, no.4.jpg\n",
      "cannot find excel file for : 30, 3, no.5.jpg\n",
      "cannot find excel file for : 30, 3, no.6.jpg\n",
      "cannot find excel file for : 30, 3, no.7.jpg\n",
      "cannot find excel file for : 30, 5, no.1.jpg\n",
      "cannot find excel file for : 30, 5, no.2.jpg\n",
      "cannot find excel file for : 30, 5, no.3.jpg\n",
      "cannot find excel file for : 30, 5, no.4.jpg\n",
      "cannot find excel file for : 30, 5, no.5.jpg\n",
      "cannot find excel file for : 30, 5, no.6.jpg\n",
      "cannot find excel file for : 30, 5, no.7.jpg\n",
      "cannot find excel file for : 30, 7, no.1.jpg\n",
      "cannot find excel file for : 30, 7, no.2.jpg\n",
      "cannot find excel file for : 30, 7, no.3.jpg\n",
      "cannot find excel file for : 30, 7, no.4.jpg\n",
      "cannot find excel file for : 40, 3, no.3.jpg\n",
      "cannot find excel file for : 40, 3, no.6.jpg\n",
      "cannot find excel file for : 40, 3, no.7.jpg\n",
      "cannot find excel file for : 40, 5, no.1.jpg\n",
      "cannot find excel file for : 40, 5, no.2.jpg\n",
      "cannot find excel file for : 40, 5, no.3.jpg\n",
      "cannot find excel file for : 40, 5, no.4.jpg\n",
      "cannot find excel file for : 40, 5, no.5.jpg\n",
      "cannot find excel file for : 40, 5, no.6.jpg\n",
      "cannot find excel file for : 40, 5, no.7.jpg\n",
      "cannot find excel file for : 40, 7, no.1.jpg\n",
      "cannot find excel file for : 40, 7, no.2.jpg\n",
      "cannot find excel file for : 40, 7, no.3.jpg\n",
      "cannot find excel file for : 40, 7, no.4.jpg\n",
      "cannot find excel file for : 40, 7, no.5.jpg\n",
      "cannot find excel file for : 40, 7, no.6.jpg\n",
      "cannot find excel file for : 40, 7, no.7.jpg\n",
      "cannot find excel file for : 40, 9, no.1.jpg\n",
      "cannot find excel file for : 40, 9, no.2.jpg\n",
      "cannot find excel file for : 50, 5, no.1.jpg\n",
      "cannot find excel file for : 50, 7, no.1.jpg\n",
      "cannot find excel file for : 50, 7, no.6.jpg\n",
      "cannot find excel file for : 60, 5, no.7.jpg\n",
      "cannot find excel file for : 60, 7, no.7.jpg\n",
      "cannot find excel file for : 60, 9, no.7.jpg\n",
      "cannot find excel file for : 70, 1, no.1.jpg\n",
      "cannot find excel file for : 70, 1, no.2.jpg\n",
      "cannot find excel file for : 70, 1, no.3.jpg\n",
      "cannot find excel file for : 70, 1, no.4.jpg\n",
      "cannot find excel file for : 70, 1, no.5.jpg\n",
      "cannot find excel file for : 70, 1, no.6.jpg\n",
      "cannot find excel file for : 70, 1, no.7.jpg\n",
      "cannot find excel file for : 70, 9, no.7.jpg\n",
      "saved 108 images\n"
     ]
    }
   ],
   "source": [
    "ground_dir = \"data_files/0713/\"\n",
    "image_dir = ground_dir + \"images\"\n",
    "make_dir = ground_dir + \"processed_images_Rp\"\n",
    "os.makedirs(make_dir)\n",
    "\n",
    "count = 0\n",
    "\n",
    "for file in os.listdir(image_dir):\n",
    "    \n",
    "    original_image_name = file[:-4].replace(\" \", \"\").replace(\",\", \"\").replace(\".\", \"\")\n",
    "    \n",
    "    try:\n",
    "        imp_index = file_names_list.index(original_image_name)\n",
    "    except ValueError:\n",
    "        print(\"cannot find excel file for : \" + file)\n",
    "        continue\n",
    "     \n",
    "    new_image_name = imp_list[imp_index]\n",
    "    image = load_img(image_dir + \"/\" + file)\n",
    "    cropped_image = image.crop((0,448,2560,1472))\n",
    "    cropped_image.save(make_dir + \"/\" + str(new_image_name) + \".jpg\")\n",
    "    \n",
    "    count += 1\n",
    "    \n",
    "print(\"saved \" + str(count) + \" images\")"
   ]
  },
  {
   "cell_type": "markdown",
   "id": "8089e619",
   "metadata": {},
   "source": [
    "# CNN Training"
   ]
  },
  {
   "cell_type": "code",
   "execution_count": 5,
   "id": "e4e4b958",
   "metadata": {},
   "outputs": [],
   "source": [
    "# 학습용 이미지 쪼개기\n",
    "# 저장된 이미지는 (1024*2560)\n",
    "\n",
    "image_width = 512\n",
    "image_height = 1024\n",
    "rows = 1\n",
    "columns = 1\n",
    "\n",
    "X = []\n",
    "Y = []\n",
    "\n",
    "for file_name in os.listdir(make_dir):\n",
    "    if file_name != '.DS_Store':\n",
    "        image = Image.open(make_dir+\"/\"+file_name).convert(\"L\")\n",
    "        for j in range(rows):\n",
    "\n",
    "            for i in range(columns):\n",
    "                cropped = image.crop((i*image_width,j*image_height,(i+1)*image_width,(j+1)*image_height))\n",
    "                cropped = np.array(cropped)\n",
    "                X.append(cropped)\n",
    "                Y.append(int(float(file_name[:-4])))"
   ]
  },
  {
   "cell_type": "code",
   "execution_count": 6,
   "id": "b41da88b",
   "metadata": {},
   "outputs": [
    {
     "name": "stdout",
     "output_type": "stream",
     "text": [
      "(108, 1024, 512) (108,)\n"
     ]
    }
   ],
   "source": [
    "X = np.array(X)/255.0\n",
    "Y = np.array(Y)\n",
    "print(X.shape, Y.shape)"
   ]
  },
  {
   "cell_type": "code",
   "execution_count": 7,
   "id": "a55ebb04",
   "metadata": {},
   "outputs": [],
   "source": [
    "standard_scaler_y = StandardScaler()\n",
    "reshape_y = Y.reshape(-1,1)\n",
    "reshape_y = standard_scaler_y.fit_transform(reshape_y)"
   ]
  },
  {
   "cell_type": "code",
   "execution_count": 8,
   "id": "6989bc27",
   "metadata": {},
   "outputs": [],
   "source": [
    "test_size = 0.2\n",
    "shuffle = True\n",
    "random_state = 42\n",
    "\n",
    "train_x, test_x, train_y, test_y = train_test_split(X, reshape_y, test_size=test_size, shuffle=shuffle, random_state=random_state)"
   ]
  },
  {
   "cell_type": "code",
   "execution_count": 10,
   "id": "dea8005c",
   "metadata": {},
   "outputs": [],
   "source": [
    "# callback\n",
    "patience=20\n",
    "early_stopping_cb = EarlyStopping(patience=patience, restore_best_weights=True, monitor='val_loss')"
   ]
  },
  {
   "cell_type": "code",
   "execution_count": 11,
   "id": "1c66bce9",
   "metadata": {},
   "outputs": [],
   "source": [
    "train_x_cnn = train_x[..., np.newaxis]\n",
    "test_x_cnn = test_x[..., np.newaxis]"
   ]
  },
  {
   "cell_type": "code",
   "execution_count": 12,
   "id": "b40c2c47",
   "metadata": {},
   "outputs": [
    {
     "data": {
      "text/plain": [
       "(86, 1024, 512, 1)"
      ]
     },
     "execution_count": 12,
     "metadata": {},
     "output_type": "execute_result"
    }
   ],
   "source": [
    "train_x_cnn.shape"
   ]
  },
  {
   "cell_type": "code",
   "execution_count": 13,
   "id": "caefbf9a",
   "metadata": {},
   "outputs": [
    {
     "data": {
      "text/plain": [
       "(86, 1)"
      ]
     },
     "execution_count": 13,
     "metadata": {},
     "output_type": "execute_result"
    }
   ],
   "source": [
    "train_y.shape"
   ]
  },
  {
   "cell_type": "code",
   "execution_count": 14,
   "id": "2c7d8550",
   "metadata": {},
   "outputs": [],
   "source": [
    "\n",
    "# sequential model\n",
    "cnn_model = keras.models.Sequential()\n",
    "\n",
    "# input and convolutional layer\n",
    "cnn_model.add(keras.layers.Conv2D(32, 7, activation='relu', padding='same',\n",
    "                                  input_shape=[1024, 512, 1]))\n",
    "# pooling layer\n",
    "cnn_model.add(keras.layers.MaxPooling2D(2))\n",
    "\n",
    "# convolutional layers and pooling layer\n",
    "cnn_model.add(keras.layers.Conv2D(64, 3, activation='relu', padding='same'))\n",
    "cnn_model.add(keras.layers.Conv2D(64, 3, activation='relu', padding='same'))\n",
    "cnn_model.add(keras.layers.MaxPooling2D(2))\n",
    "\n",
    "# convolutional layers and pooling layer\n",
    "cnn_model.add(keras.layers.Conv2D(128, 3, activation='relu', padding='same'))\n",
    "cnn_model.add(keras.layers.Conv2D(128, 3, activation='relu', padding='same'))\n",
    "cnn_model.add(keras.layers.MaxPooling2D(2))\n",
    "\n",
    "# flatten layer\n",
    "cnn_model.add(keras.layers.Flatten())\n",
    "\n",
    "# dense layers\n",
    "cnn_model.add(keras.layers.Dense(64, activation='relu'))\n",
    "cnn_model.add(keras.layers.Dense(32, activation='relu'))\n",
    "\n",
    "# output layer\n",
    "cnn_model.add(keras.layers.Dense(1))\n",
    "\n",
    "# model complie\n",
    "cnn_model.compile(optimizer='adam',loss='mse')"
   ]
  },
  {
   "cell_type": "code",
   "execution_count": 15,
   "id": "23801612",
   "metadata": {},
   "outputs": [
    {
     "name": "stdout",
     "output_type": "stream",
     "text": [
      "Model: \"sequential\"\n",
      "_________________________________________________________________\n",
      " Layer (type)                Output Shape              Param #   \n",
      "=================================================================\n",
      " conv2d (Conv2D)             (None, 1024, 512, 32)     1600      \n",
      "                                                                 \n",
      " max_pooling2d (MaxPooling2D  (None, 512, 256, 32)     0         \n",
      " )                                                               \n",
      "                                                                 \n",
      " conv2d_1 (Conv2D)           (None, 512, 256, 64)      18496     \n",
      "                                                                 \n",
      " conv2d_2 (Conv2D)           (None, 512, 256, 64)      36928     \n",
      "                                                                 \n",
      " max_pooling2d_1 (MaxPooling  (None, 256, 128, 64)     0         \n",
      " 2D)                                                             \n",
      "                                                                 \n",
      " conv2d_3 (Conv2D)           (None, 256, 128, 128)     73856     \n",
      "                                                                 \n",
      " conv2d_4 (Conv2D)           (None, 256, 128, 128)     147584    \n",
      "                                                                 \n",
      " max_pooling2d_2 (MaxPooling  (None, 128, 64, 128)     0         \n",
      " 2D)                                                             \n",
      "                                                                 \n",
      " flatten (Flatten)           (None, 1048576)           0         \n",
      "                                                                 \n",
      " dense (Dense)               (None, 64)                67108928  \n",
      "                                                                 \n",
      " dense_1 (Dense)             (None, 32)                2080      \n",
      "                                                                 \n",
      " dense_2 (Dense)             (None, 1)                 33        \n",
      "                                                                 \n",
      "=================================================================\n",
      "Total params: 67,389,505\n",
      "Trainable params: 67,389,505\n",
      "Non-trainable params: 0\n",
      "_________________________________________________________________\n"
     ]
    }
   ],
   "source": [
    "cnn_model.summary()"
   ]
  },
  {
   "cell_type": "code",
   "execution_count": 16,
   "id": "b5736649",
   "metadata": {},
   "outputs": [
    {
     "name": "stdout",
     "output_type": "stream",
     "text": [
      "Epoch 1/100\n",
      "3/3 [==============================] - 14s 2s/step - loss: 4.5531 - val_loss: 1.3503\n",
      "Epoch 2/100\n",
      "3/3 [==============================] - 3s 785ms/step - loss: 1.1209 - val_loss: 1.1423\n",
      "Epoch 3/100\n",
      "3/3 [==============================] - 3s 778ms/step - loss: 0.9994 - val_loss: 1.1289\n",
      "Epoch 4/100\n",
      "3/3 [==============================] - 3s 781ms/step - loss: 1.0981 - val_loss: 1.1159\n",
      "Epoch 5/100\n",
      "3/3 [==============================] - 3s 777ms/step - loss: 1.0155 - val_loss: 1.1130\n",
      "Epoch 6/100\n",
      "3/3 [==============================] - 3s 722ms/step - loss: 0.9945 - val_loss: 1.1204\n",
      "Epoch 7/100\n",
      "3/3 [==============================] - 3s 726ms/step - loss: 0.9932 - val_loss: 1.1152\n",
      "Epoch 8/100\n",
      "3/3 [==============================] - 3s 722ms/step - loss: 0.9990 - val_loss: 1.1169\n",
      "Epoch 9/100\n",
      "3/3 [==============================] - 3s 725ms/step - loss: 1.0017 - val_loss: 1.1438\n",
      "Epoch 10/100\n",
      "3/3 [==============================] - 3s 770ms/step - loss: 0.9917 - val_loss: 1.1122\n",
      "Epoch 11/100\n",
      "3/3 [==============================] - 3s 779ms/step - loss: 0.9962 - val_loss: 1.1024\n",
      "Epoch 12/100\n",
      "3/3 [==============================] - 3s 772ms/step - loss: 0.9910 - val_loss: 1.1020\n",
      "Epoch 13/100\n",
      "3/3 [==============================] - 3s 724ms/step - loss: 0.9809 - val_loss: 1.1334\n",
      "Epoch 14/100\n",
      "3/3 [==============================] - 3s 723ms/step - loss: 0.9964 - val_loss: 1.1314\n",
      "Epoch 15/100\n",
      "3/3 [==============================] - 3s 725ms/step - loss: 0.9957 - val_loss: 1.1309\n",
      "Epoch 16/100\n",
      "3/3 [==============================] - 3s 726ms/step - loss: 0.9955 - val_loss: 1.1314\n",
      "Epoch 17/100\n",
      "3/3 [==============================] - 3s 725ms/step - loss: 0.9951 - val_loss: 1.1185\n",
      "Epoch 18/100\n",
      "3/3 [==============================] - 3s 723ms/step - loss: 0.9933 - val_loss: 1.1103\n",
      "Epoch 19/100\n",
      "3/3 [==============================] - 3s 723ms/step - loss: 0.9953 - val_loss: 1.1120\n",
      "Epoch 20/100\n",
      "3/3 [==============================] - 3s 721ms/step - loss: 0.9857 - val_loss: 1.1248\n",
      "Epoch 21/100\n",
      "3/3 [==============================] - 3s 724ms/step - loss: 0.9953 - val_loss: 1.1471\n",
      "Epoch 22/100\n",
      "3/3 [==============================] - 3s 783ms/step - loss: 0.9986 - val_loss: 1.0924\n",
      "Epoch 23/100\n",
      "3/3 [==============================] - 3s 774ms/step - loss: 0.9732 - val_loss: 1.0628\n",
      "Epoch 24/100\n",
      "3/3 [==============================] - 3s 771ms/step - loss: 0.9626 - val_loss: 1.0412\n",
      "Epoch 25/100\n",
      "3/3 [==============================] - 3s 772ms/step - loss: 0.9245 - val_loss: 0.9831\n",
      "Epoch 26/100\n",
      "3/3 [==============================] - 3s 723ms/step - loss: 0.9483 - val_loss: 1.1181\n",
      "Epoch 27/100\n",
      "3/3 [==============================] - 3s 721ms/step - loss: 0.9858 - val_loss: 1.1353\n",
      "Epoch 28/100\n",
      "3/3 [==============================] - 3s 723ms/step - loss: 0.9966 - val_loss: 1.1346\n",
      "Epoch 29/100\n",
      "3/3 [==============================] - 3s 722ms/step - loss: 0.9946 - val_loss: 1.1312\n",
      "Epoch 30/100\n",
      "3/3 [==============================] - 3s 720ms/step - loss: 0.9901 - val_loss: 1.1441\n",
      "Epoch 31/100\n",
      "3/3 [==============================] - 3s 723ms/step - loss: 0.9976 - val_loss: 1.1454\n",
      "Epoch 32/100\n",
      "3/3 [==============================] - 3s 721ms/step - loss: 1.0233 - val_loss: 1.0927\n",
      "Epoch 33/100\n",
      "3/3 [==============================] - 3s 725ms/step - loss: 0.9700 - val_loss: 1.0737\n",
      "Epoch 34/100\n",
      "3/3 [==============================] - 3s 726ms/step - loss: 0.9928 - val_loss: 1.0708\n",
      "Epoch 35/100\n",
      "3/3 [==============================] - 3s 721ms/step - loss: 0.9676 - val_loss: 1.3160\n",
      "Epoch 36/100\n",
      "3/3 [==============================] - 3s 722ms/step - loss: 1.1524 - val_loss: 1.0882\n",
      "Epoch 37/100\n",
      "3/3 [==============================] - 3s 721ms/step - loss: 0.9852 - val_loss: 1.4305\n",
      "Epoch 38/100\n",
      "3/3 [==============================] - 3s 729ms/step - loss: 1.1717 - val_loss: 1.1688\n",
      "Epoch 39/100\n",
      "3/3 [==============================] - 3s 724ms/step - loss: 1.0127 - val_loss: 1.1310\n",
      "Epoch 40/100\n",
      "3/3 [==============================] - 3s 722ms/step - loss: 0.9926 - val_loss: 1.1300\n",
      "Epoch 41/100\n",
      "3/3 [==============================] - 3s 721ms/step - loss: 0.9913 - val_loss: 1.1481\n",
      "Epoch 42/100\n",
      "3/3 [==============================] - 3s 721ms/step - loss: 1.0018 - val_loss: 1.1427\n",
      "Epoch 43/100\n",
      "3/3 [==============================] - 3s 720ms/step - loss: 0.9976 - val_loss: 1.1264\n",
      "Epoch 44/100\n",
      "3/3 [==============================] - 3s 741ms/step - loss: 0.9866 - val_loss: 1.1131\n",
      "Epoch 45/100\n",
      "3/3 [==============================] - 3s 737ms/step - loss: 0.9880 - val_loss: 1.1086\n",
      "model is saved\n"
     ]
    }
   ],
   "source": [
    "path_directory = make_dir + \".h5\"\n",
    "istrue = os.path.exists(path_directory)\n",
    "\n",
    "if not istrue:\n",
    "    history = cnn_model.fit(train_x_cnn, train_y, callbacks=[early_stopping_cb],\n",
    "                            epochs=100, validation_split=0.2)\n",
    "    cnn_model.save(path_directory)\n",
    "    print(\"model is saved\")\n",
    "else:\n",
    "    cnn_model = keras.models.load_model(path_directory)\n",
    "    print(\"model is loaded\")"
   ]
  },
  {
   "cell_type": "markdown",
   "id": "2dec032c",
   "metadata": {},
   "source": [
    "# Results"
   ]
  },
  {
   "cell_type": "code",
   "execution_count": 17,
   "id": "c424c517",
   "metadata": {},
   "outputs": [
    {
     "name": "stdout",
     "output_type": "stream",
     "text": [
      "3/3 [==============================] - 2s 683ms/step - loss: 0.9551\n",
      "0.9551411271095276\n"
     ]
    }
   ],
   "source": [
    "print(cnn_model.evaluate(train_x_cnn, train_y))\n"
   ]
  },
  {
   "cell_type": "code",
   "execution_count": 18,
   "id": "2cdc70ab",
   "metadata": {},
   "outputs": [
    {
     "data": {
      "image/png": "[encoded data removed]",
      "text/plain": [
       "<Figure size 640x480 with 1 Axes>"
      ]
     },
     "metadata": {},
     "output_type": "display_data"
    }
   ],
   "source": [
    "plt.plot(history.history['loss'][5:], 'b-', label='loss')\n",
    "plt.plot(history.history['val_loss'][5:], 'r--', label='val_loss')\n",
    "plt.xlabel('Epoch')\n",
    "plt.legend()\n",
    "plt.show()"
   ]
  },
  {
   "cell_type": "code",
   "execution_count": 19,
   "id": "fc1d2448",
   "metadata": {
    "scrolled": false
   },
   "outputs": [
    {
     "name": "stdout",
     "output_type": "stream",
     "text": [
      "1/1 [==============================] - 0s 77ms/step\n"
     ]
    },
    {
     "data": {
      "image/png": "[encoded data removed]",
      "text/plain": [
       "<Figure size 640x480 with 1 Axes>"
      ]
     },
     "metadata": {},
     "output_type": "display_data"
    }
   ],
   "source": [
    "pred = cnn_model.predict(test_x)\n",
    "inv_test_y = standard_scaler_y.inverse_transform(test_y)\n",
    "inv_pred = standard_scaler_y.inverse_transform(pred)\n",
    "\n",
    "x_ax = range(len(inv_pred))\n",
    "plt.scatter(x_ax, inv_test_y, s=5, color=\"blue\", label=\"original\")\n",
    "plt.plot(x_ax, inv_pred, lw=0.8, color=\"red\", label=\"predicted\")\n",
    "plt.legend()\n",
    "plt.show()"
   ]
  },
  {
   "cell_type": "code",
   "execution_count": 20,
   "id": "7a75c59a",
   "metadata": {},
   "outputs": [
    {
     "name": "stdout",
     "output_type": "stream",
     "text": [
      "RMSE: 1837.1641\n"
     ]
    }
   ],
   "source": [
    "print(\"RMSE: %.4f\" % mean_squared_error(inv_test_y, inv_pred)**(1/2))"
   ]
  },
  {
   "cell_type": "code",
   "execution_count": null,
   "id": "cad13b48",
   "metadata": {},
   "outputs": [],
   "source": []
  }
 ],
 "metadata": {
  "kernelspec": {
   "display_name": "Python 3 (ipykernel)",
   "language": "python",
   "name": "python3"
  },
  "language_info": {
   "codemirror_mode": {
    "name": "ipython",
    "version": 3
   },
   "file_extension": ".py",
   "mimetype": "text/x-python",
   "name": "python",
   "nbconvert_exporter": "python",
   "pygments_lexer": "ipython3",
   "version": "3.8.16"
  }
 },
 "nbformat": 4,
 "nbformat_minor": 5
}
