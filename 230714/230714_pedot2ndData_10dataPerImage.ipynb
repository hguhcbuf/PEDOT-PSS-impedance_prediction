{
 "cells": [
  {
   "cell_type": "code",
   "execution_count": 1,
   "id": "d1f356e2",
   "metadata": {},
   "outputs": [],
   "source": [
    "import csv\n",
    "import tensorflow as tf\n",
    "import matplotlib.pyplot as plt\n",
    "import cv2\n",
    "import os\n",
    "import numpy as np\n",
    "from tensorflow.keras.preprocessing.image import ImageDataGenerator\n",
    "from tensorflow.keras.utils import load_img\n",
    "from PIL import Image\n",
    "from tensorflow import keras\n",
    "from glob import glob\n",
    "import pandas as pd\n",
    "import imutils\n",
    "from scipy.spatial import distance as dist\n",
    "from imutils import perspective\n",
    "from imutils import contours\n",
    "import argparse\n",
    "from sklearn.preprocessing import StandardScaler\n",
    "from sklearn.preprocessing import MinMaxScaler\n",
    "from sklearn.model_selection import train_test_split\n",
    "from keras.callbacks import ModelCheckpoint, EarlyStopping\n",
    "from sklearn.metrics import mean_squared_error"
   ]
  },
  {
   "cell_type": "markdown",
   "id": "cf36bcfd",
   "metadata": {},
   "source": [
    "# 2차로 받은 추가 데이터입니다"
   ]
  },
  {
   "cell_type": "markdown",
   "id": "28c4441e",
   "metadata": {},
   "source": [
    "# Data Pre-processing"
   ]
  },
  {
   "cell_type": "code",
   "execution_count": 2,
   "id": "1e21593e",
   "metadata": {},
   "outputs": [
    {
     "name": "stdout",
     "output_type": "stream",
     "text": [
      "file :  Generic C-f [(1) _30, 1, no.6_; 7_3_2023 1_46_05 PM].csv     Rp :  5231.247\n",
      "file :  Generic C-f [(1) _30, 3, no.7_; 7_3_2023 1_50_42 PM].csv     Rp :  10062.235\n",
      "file :  Generic C-f [(1) _30, 5, no.1_; 7_3_2023 1_52_00 PM].csv     Rp :  41851.774\n",
      "file :  Generic C-f [(1) _30, 5, no.2_; 7_3_2023 1_52_26 PM].csv     Rp :  38676.64\n",
      "file :  Generic C-f [(1) _30, 5, no.4_; 7_3_2023 1_53_19 PM].csv     Rp :  55231.378\n",
      "file :  Generic C-f [(1) _30, 5, no.5_; 7_3_2023 1_53_47 PM].csv     Rp :  49048.821\n",
      "file :  Generic C-f [(1) _30, 5, no.7_; 7_3_2023 1_54_59 PM].csv     Rp :  39845.003\n",
      "file :  Generic C-f [(1) _30, 7, no.1_; 7_3_2023 1_55_40 PM].csv     Rp :  54464.896\n",
      "file :  Generic C-f [(1) _40, 1, no.5_; 7_3_2023 1_26_50 PM].csv     Rp :  3377.876\n",
      "file :  Generic C-f [(1) _40, 5, no.2_; 7_3_2023 1_33_31 PM].csv     Rp :  14005.014\n",
      "file :  Generic C-f [(10) _40, 3, no.5_; 7_3_2023 1_30_34 PM].csv     Rp :  8857.827\n",
      "file :  Generic C-f [(10) _70, 3, no.5_; 7_3_2023 12_16_08 PM].csv     Rp :  1945.563\n",
      "file :  Generic C-f [(100) _60, 7, no.6_; 7_3_2023 12_51_06 PM].csv     Rp :  3908.265\n",
      "file :  Generic C-f [(104) _60, 9, no.1_; 7_3_2023 12_52_21 PM].csv     Rp :  7000.179\n",
      "file :  Generic C-f [(105) _60, 9, no.2_; 7_3_2023 12_53_00 PM].csv     Rp :  4737.585\n",
      "file :  Generic C-f [(106) _60, 9, no.3_; 7_3_2023 12_53_29 PM].csv     Rp :  3954.343\n",
      "file :  Generic C-f [(11) _40, 5, no.5_; 7_3_2023 1_36_39 PM].csv     Rp :  15875.41\n",
      "file :  Generic C-f [(11) _70, 3, no.6_; 7_3_2023 12_16_39 PM].csv     Rp :  1859.064\n",
      "file :  Generic C-f [(110) _60, 9, no.4_; 7_3_2023 12_54_13 PM].csv     Rp :  4746.952\n",
      "file :  Generic C-f [(111) _60, 9, no.5_; 7_3_2023 12_54_41 PM].csv     Rp :  4164.22\n",
      "file :  Generic C-f [(112) _60, 9, no.6_; 7_3_2023 12_55_06 PM].csv     Rp :  3820.002\n",
      "file :  Generic C-f [(115) _50, 1, no.1_; 7_3_2023 12_56_44 PM].csv     Rp :  1843.862\n",
      "file :  Generic C-f [(117) _50, 1, no.2_; 7_3_2023 12_57_18 PM].csv     Rp :  2275.74\n",
      "file :  Generic C-f [(12) _70, 3, no.7_; 7_3_2023 12_17_27 PM].csv     Rp :  2172.89\n",
      "file :  Generic C-f [(127) _50, 1, no.3_; 7_3_2023 12_58_47 PM].csv     Rp :  1644.439\n",
      "file :  Generic C-f [(128) _50, 1, no.4_; 7_3_2023 12_59_19 PM].csv     Rp :  1240.641\n",
      "file :  Generic C-f [(13) _70, 5, no.1_; 7_3_2023 12_18_33 PM].csv     Rp :  2959.105\n",
      "file :  Generic C-f [(131) _50, 1, no.5_; 7_3_2023 1_00_08 PM].csv     Rp :  1381.511\n",
      "file :  Generic C-f [(132) _50, 1, no.6_; 7_3_2023 1_00_38 PM].csv     Rp :  1554.557\n",
      "file :  Generic C-f [(135) _50, 1, no.7_; 7_3_2023 1_01_35 PM].csv     Rp :  2575.6\n",
      "file :  Generic C-f [(137) _50, 3, no.1_; 7_3_2023 1_02_20 PM].csv     Rp :  2772.733\n",
      "file :  Generic C-f [(139) _50, 3, no.2_; 7_3_2023 1_03_07 PM].csv     Rp :  2240.342\n",
      "file :  Generic C-f [(14) _70, 5, no.2_; 7_3_2023 12_19_06 PM].csv     Rp :  2612.709\n",
      "file :  Generic C-f [(141) _50, 3, no.3_; 7_3_2023 1_03_37 PM].csv     Rp :  2912.904\n",
      "file :  Generic C-f [(143) _50, 3, no.4_; 7_3_2023 1_08_07 PM].csv     Rp :  2861.57\n",
      "file :  Generic C-f [(145) _50, 3, no.5_; 7_3_2023 1_08_41 PM].csv     Rp :  2844.906\n",
      "file :  Generic C-f [(148) _50, 3, no.6_; 7_3_2023 1_09_16 PM].csv     Rp :  3314.639\n",
      "file :  Generic C-f [(15) _40, 3, no.6_; 7_3_2023 1_31_39 PM].csv     Rp :  13227.251\n",
      "file :  Generic C-f [(151) _50, 3, no.7_; 7_3_2023 1_09_51 PM].csv     Rp :  3512.432\n",
      "file :  Generic C-f [(159) _50, 5, no.2_; 7_3_2023 1_11_43 PM].csv     Rp :  3981.645\n",
      "file :  Generic C-f [(16) _40, 7, no.3__; 7_3_2023 1_38_33 PM].csv     Rp :  27234.302\n",
      "file :  Generic C-f [(16) _70, 5, no.3_; 7_3_2023 12_19_58 PM].csv     Rp :  1765.926\n",
      "file :  Generic C-f [(160) _50, 5, no.3_; 7_3_2023 1_12_10 PM].csv     Rp :  3858.241\n",
      "file :  Generic C-f [(162) _50, 5, no.4_; 7_3_2023 1_12_44 PM].csv     Rp :  3478.696\n",
      "file :  Generic C-f [(164) _50, 5, no.5_; 7_3_2023 1_13_20 PM].csv     Rp :  3635.042\n",
      "file :  Generic C-f [(166) _50, 5, no.6_; 7_3_2023 1_13_55 PM].csv     Rp :  3626.651\n",
      "file :  Generic C-f [(169) _50, 5, no.7_; 7_3_2023 1_14_30 PM].csv     Rp :  4450.16\n",
      "file :  Generic C-f [(17) _70, 5, no.4_; 7_3_2023 12_20_34 PM].csv     Rp :  2208.529\n",
      "file :  Generic C-f [(173) _50, 7, no.2_; 7_3_2023 1_15_32 PM].csv     Rp :  7602.973\n",
      "file :  Generic C-f [(175) _50, 7, no.3_; 7_3_2023 1_16_07 PM].csv     Rp :  5677.592\n",
      "file :  Generic C-f [(178) _50, 7, no.4_; 7_3_2023 1_16_55 PM].csv     Rp :  6096.297\n",
      "file :  Generic C-f [(18) _70, 5, no.5_; 7_3_2023 12_21_03 PM].csv     Rp :  2339.926\n",
      "file :  Generic C-f [(181) _50, 7, no.5_; 7_3_2023 1_17_36 PM].csv     Rp :  5544.959\n",
      "file :  Generic C-f [(186) _50, 7, no.7_; 7_3_2023 1_18_59 PM].csv     Rp :  5571.745\n",
      "file :  Generic C-f [(19) _70, 5, no.6_; 7_3_2023 12_21_34 PM].csv     Rp :  2199.564\n",
      "file :  Generic C-f [(192) _50, 9, no.1_; 7_3_2023 1_20_19 PM].csv     Rp :  8714.445\n",
      "file :  Generic C-f [(194) _50, 9, no.2_; 7_3_2023 1_20_49 PM].csv     Rp :  7755.756\n",
      "file :  Generic C-f [(195) _50, 9, no.3_; 7_3_2023 1_21_20 PM].csv     Rp :  7701.342\n",
      "file :  Generic C-f [(196) _50, 9, no.4_; 7_3_2023 1_21_47 PM].csv     Rp :  7612.986\n",
      "file :  Generic C-f [(197) _50, 9, no.5_; 7_3_2023 1_22_11 PM].csv     Rp :  6153.789\n",
      "file :  Generic C-f [(198) _50, 9, no.6_; 7_3_2023 1_22_36 PM].csv     Rp :  6405.863\n",
      "file :  Generic C-f [(199) _50, 9, no.7_; 7_3_2023 1_23_01 PM].csv     Rp :  6425.207\n",
      "file :  Generic C-f [(2) _30, 1, no.3_; 7_3_2023 1_43_50 PM].csv     Rp :  4397.818\n",
      "file :  Generic C-f [(2) _30, 1, no.7_; 7_3_2023 1_46_36 PM].csv     Rp :  4061.738\n",
      "file :  Generic C-f [(2) _30, 5, no.3_; 7_3_2023 1_52_52 PM].csv     Rp :  41121.295\n",
      "file :  Generic C-f [(2) _30, 5, no.6_; 7_3_2023 1_54_24 PM].csv     Rp :  30916.441\n",
      "file :  Generic C-f [(2) _30, 7, no.2_; 7_3_2023 1_59_19 PM].csv     Rp :  48098.197\n",
      "file :  Generic C-f [(206) _40, 1, no.1_; 7_3_2023 1_24_48 PM].csv     Rp :  4606.915\n",
      "file :  Generic C-f [(207) _40, 1, no.2_; 7_3_2023 1_25_11 PM].csv     Rp :  3535.562\n",
      "file :  Generic C-f [(21) _70, 5, no.7_; 7_3_2023 12_22_14 PM].csv     Rp :  2800.054\n",
      "file :  Generic C-f [(210) _40, 1, no.3_; 7_3_2023 1_25_46 PM].csv     Rp :  5333.532\n",
      "file :  Generic C-f [(211) _40, 1, no.4_; 7_3_2023 1_26_06 PM].csv     Rp :  3378.738\n",
      "file :  Generic C-f [(22) _40, 5, no.1_; 7_3_2023 1_33_08 PM].csv     Rp :  15809.277\n",
      "file :  Generic C-f [(23) _70, 7, no.1_; 7_3_2023 12_23_13 PM].csv     Rp :  4611.196\n",
      "file :  Generic C-f [(24) _70, 7, no.2_; 7_3_2023 12_23_40 PM].csv     Rp :  4018.259\n",
      "file :  Generic C-f [(25) _70, 7, no.3_; 7_3_2023 12_24_13 PM].csv     Rp :  2746.706\n",
      "file :  Generic C-f [(27) _70, 7, no.4_; 7_3_2023 12_25_01 PM].csv     Rp :  2375.808\n",
      "file :  Generic C-f [(28) _70, 7, no.5_; 7_3_2023 12_25_32 PM].csv     Rp :  3059.128\n",
      "file :  Generic C-f [(3) _30, 1, no.4_; 7_3_2023 1_44_38 PM].csv     Rp :  4603.702\n",
      "file :  Generic C-f [(3) _30, 3, no.5_; 7_3_2023 1_49_51 PM].csv     Rp :  29771.784\n",
      "file :  Generic C-f [(3) _40, 1, no.6_; 7_3_2023 1_27_25 PM].csv     Rp :  3950.157\n",
      "file :  Generic C-f [(3) _40, 3, no.1_; 7_3_2023 1_28_51 PM].csv     Rp :  8726.08\n",
      "file :  Generic C-f [(3) _40, 7, no.5_; 7_3_2023 1_39_32 PM].csv     Rp :  24627.357\n",
      "file :  Generic C-f [(31) _70, 7, no.6_; 7_3_2023 12_26_36 PM].csv     Rp :  2669.835\n",
      "file :  Generic C-f [(33) _70, 7, no.7_; 7_3_2023 12_27_28 PM].csv     Rp :  3443.147\n",
      "file :  Generic C-f [(34) _70, 9, no.1_; 7_3_2023 12_28_01 PM].csv     Rp :  4882.789\n",
      "file :  Generic C-f [(35) _70, 9, no.2_; 7_3_2023 12_28_25 PM].csv     Rp :  3636.377\n",
      "file :  Generic C-f [(36) _70, 9 , no.3_; 7_3_2023 12_28_56 PM].csv     Rp :  3730.118\n",
      "file :  Generic C-f [(37) _70, 9 , no.4_; 7_3_2023 12_29_20 PM].csv     Rp :  3286.992\n",
      "file :  Generic C-f [(38) _70, 9, no.5_; 7_3_2023 12_29_57 PM].csv     Rp :  3628.269\n",
      "file :  Generic C-f [(4) _30, 1, no.5_; 7_3_2023 1_45_28 PM].csv     Rp :  5324.346\n",
      "file :  Generic C-f [(4) _30, 3, no.6_; 7_3_2023 1_50_17 PM].csv     Rp :  11977.482\n",
      "file :  Generic C-f [(4) _30, 7, no.3_; 7_3_2023 1_59_58 PM].csv     Rp :  75338.647\n",
      "file :  Generic C-f [(4) _40, 3, no.2_; 7_3_2023 1_29_17 PM].csv     Rp :  8666.6\n",
      "file :  Generic C-f [(4) _40, 9, no.1_; 7_3_2023 1_40_49 PM].csv     Rp :  11658.545\n",
      "file :  Generic C-f [(40) _70, 9, no.6_; 7_3_2023 12_30_40 PM].csv     Rp :  3836.599\n",
      "file :  Generic C-f [(47) _60, 1, no.1_; 7_3_2023 12_33_15 PM].csv     Rp :  1343.553\n",
      "file :  Generic C-f [(48) _60, 1, no.2_; 7_3_2023 12_33_47 PM].csv     Rp :  1034.661\n",
      "file :  Generic C-f [(5) _30, 7, no.4_; 7_3_2023 2_00_33 PM].csv     Rp :  29028.545\n",
      "file :  Generic C-f [(5) _70, 3, no.1_; 7_3_2023 12_13_14 PM].csv     Rp :  1618.935\n",
      "file :  Generic C-f [(52) _60, 1, no.3_; 7_3_2023 12_35_40 PM].csv     Rp :  717.955\n",
      "file :  Generic C-f [(53) _60, 1, no.4_; 7_3_2023 12_36_05 PM].csv     Rp :  843.597\n",
      "file :  Generic C-f [(54) _60, 1, no.5_; 7_3_2023 12_36_34 PM].csv     Rp :  959.753\n",
      "file :  Generic C-f [(55) _60, 1, no.6_; 7_3_2023 12_37_06 PM].csv     Rp :  856.858\n",
      "file :  Generic C-f [(58) _60, 3, no.1_; 7_3_2023 12_38_07 PM].csv     Rp :  1669.588\n",
      "file :  Generic C-f [(6) _30, 1, no.1_; 7_3_2023 1_42_40 PM].csv     Rp :  4737.204\n",
      "file :  Generic C-f [(6) _40, 1, no.7_; 7_3_2023 1_28_01 PM].csv     Rp :  3297.577\n",
      "file :  Generic C-f [(6) _40, 5, no.6_; 7_3_2023 1_34_57 PM].csv     Rp :  23506.928\n",
      "file :  Generic C-f [(60) _60, 3, no.2_; 7_3_2023 12_38_38 PM].csv     Rp :  1486.403\n",
      "file :  Generic C-f [(61) _60, 3, no.3_; 7_3_2023 12_39_06 PM].csv     Rp :  1745.003\n",
      "file :  Generic C-f [(63) _60, 3, no.4_; 7_3_2023 12_39_52 PM].csv     Rp :  1311.518\n",
      "file :  Generic C-f [(65) _60, 3, no.5_; 7_3_2023 12_40_22 PM].csv     Rp :  1437.081\n",
      "file :  Generic C-f [(67) _60, 3, no.6_; 7_3_2023 12_41_00 PM].csv     Rp :  1400.845\n",
      "file :  Generic C-f [(7) _30, 1, no.2_; 7_3_2023 1_43_07 PM].csv     Rp :  4081.216\n",
      "file :  Generic C-f [(7) _70, 3, no.2_; 7_3_2023 12_14_19 PM].csv     Rp :  2216.044\n",
      "file :  Generic C-f [(70) _60, 3, no.7_; 7_3_2023 12_41_46 PM].csv     Rp :  1898.47\n",
      "file :  Generic C-f [(73) _60, 5, no.1_; 7_3_2023 12_42_38 PM].csv     Rp :  2777.461\n",
      "file :  Generic C-f [(75) _60, 5, no.2_; 7_3_2023 12_43_07 PM].csv     Rp :  3159.188\n",
      "file :  Generic C-f [(77) _60, 5, no.3_; 7_3_2023 12_43_41 PM].csv     Rp :  3250.267\n",
      "file :  Generic C-f [(79) _60, 5, no.4_; 7_3_2023 12_44_09 PM].csv     Rp :  3017.693\n",
      "file :  Generic C-f [(8) _30, 3, no.3_; 7_3_2023 1_48_35 PM].csv     Rp :  33176.739\n",
      "file :  Generic C-f [(8) _70, 3, no.3_; 7_3_2023 12_14_51 PM].csv     Rp :  1688.875\n",
      "file :  Generic C-f [(82) _60, 5, no.5_; 7_3_2023 12_44_50 PM].csv     Rp :  2355.416\n",
      "file :  Generic C-f [(86) _60, 5, no.6_; 7_3_2023 12_45_32 PM].csv     Rp :  4104.619\n",
      "file :  Generic C-f [(9) _30, 3, no.4_; 7_3_2023 1_49_11 PM].csv     Rp :  27660.145\n",
      "file :  Generic C-f [(9) _40, 3, no.4_; 7_3_2023 1_30_10 PM].csv     Rp :  7529.553\n",
      "file :  Generic C-f [(9) _40, 5, no.4_; 7_3_2023 1_36_02 PM].csv     Rp :  24095.776\n",
      "file :  Generic C-f [(9) _70, 3, no.4_; 7_3_2023 12_15_20 PM].csv     Rp :  1482.833\n",
      "file :  Generic C-f [(92) _60, 7, no.1_; 7_3_2023 12_46_49 PM].csv     Rp :  5369.113\n",
      "file :  Generic C-f [(93) _60, 7, no.2_; 7_3_2023 12_47_33 PM].csv     Rp :  5011.778\n",
      "file :  Generic C-f [(94) _60, 7, no.3_; 7_3_2023 12_48_06 PM].csv     Rp :  4139.381\n",
      "file :  Generic C-f [(95) _60, 7, no.4_; 7_3_2023 12_48_33 PM].csv     Rp :  3398.869\n",
      "file :  Generic C-f [(97) _60, 7, no.5_; 7_3_2023 12_49_07 PM].csv     Rp :  2791.39\n"
     ]
    }
   ],
   "source": [
    "#각 엑셀 파일에서 Rp, Rs 값 추출\n",
    "\n",
    "file_names_list = []\n",
    "imp_list = []\n",
    "dir = \"data_files/0713/excel_files\"\n",
    "\n",
    "for file in os.listdir(dir):\n",
    "    file_name = dir + \"/\" + file\n",
    "    f = open(file_name,'r', encoding='UTF8')\n",
    "    rdr = list(csv.reader(f))\n",
    "    Rp = round(float(rdr[120][8])/5, 3)\n",
    "    #Rs = round(float(rdr[120][10]), 3)\n",
    "    file_names_list.append(file.split(\"_\")[1].replace(\" \", \"\").replace(\",\", \"\").replace(\".\", \"\"))\n",
    "    imp_list.append(Rp)\n",
    "    \n",
    "    print(\"file : \", file, \"    Rp : \", Rp)\n",
    "    \n",
    "    f.close()\n"
   ]
  },
  {
   "cell_type": "code",
   "execution_count": null,
   "id": "9eeebe71",
   "metadata": {},
   "outputs": [],
   "source": [
    "# save cropped images with impedance values on their file names"
   ]
  },
  {
   "cell_type": "code",
   "execution_count": 3,
   "id": "c43ed998",
   "metadata": {},
   "outputs": [
    {
     "name": "stdout",
     "output_type": "stream",
     "text": [
      "cannot find excel file for : 30, 3, no.1.jpg\n",
      "cannot find excel file for : 30, 3, no.2.jpg\n",
      "cannot find excel file for : 40, 3, no.3.jpg\n",
      "cannot find excel file for : 40, 3, no.7.jpg\n",
      "cannot find excel file for : 40, 5, no.3.jpg\n",
      "cannot find excel file for : 40, 5, no.7.jpg\n",
      "cannot find excel file for : 40, 7, no.1.jpg\n",
      "cannot find excel file for : 40, 7, no.2.jpg\n",
      "cannot find excel file for : 40, 7, no.4.jpg\n",
      "cannot find excel file for : 40, 7, no.6.jpg\n",
      "cannot find excel file for : 40, 7, no.7.jpg\n",
      "cannot find excel file for : 40, 9, no.2.jpg\n",
      "cannot find excel file for : 50, 5, no.1.jpg\n",
      "cannot find excel file for : 50, 7, no.1.jpg\n",
      "cannot find excel file for : 50, 7, no.6.jpg\n",
      "cannot find excel file for : 60, 5, no.7.jpg\n",
      "cannot find excel file for : 60, 7, no.7.jpg\n",
      "cannot find excel file for : 60, 9, no.7.jpg\n",
      "cannot find excel file for : 70, 1, no.1.jpg\n",
      "cannot find excel file for : 70, 1, no.2.jpg\n",
      "cannot find excel file for : 70, 1, no.3.jpg\n",
      "cannot find excel file for : 70, 1, no.4.jpg\n",
      "cannot find excel file for : 70, 1, no.5.jpg\n",
      "cannot find excel file for : 70, 1, no.6.jpg\n",
      "cannot find excel file for : 70, 1, no.7.jpg\n",
      "cannot find excel file for : 70, 9, no.7.jpg\n",
      "saved 133 images\n"
     ]
    }
   ],
   "source": [
    "ground_dir = \"data_files/0713/\"\n",
    "image_dir = ground_dir + \"images\"\n",
    "make_dir = ground_dir + \"processed_images_Rp\"\n",
    "os.makedirs(make_dir)\n",
    "\n",
    "count = 0\n",
    "\n",
    "for file in os.listdir(image_dir):\n",
    "    \n",
    "    original_image_name = file[:-4].replace(\" \", \"\").replace(\",\", \"\").replace(\".\", \"\")\n",
    "    \n",
    "    try:\n",
    "        imp_index = file_names_list.index(original_image_name)\n",
    "    except ValueError:\n",
    "        print(\"cannot find excel file for : \" + file)\n",
    "        continue\n",
    "     \n",
    "    new_image_name = imp_list[imp_index]\n",
    "    image = load_img(image_dir + \"/\" + file)\n",
    "    cropped_image = image.crop((0,448,2560,1472))\n",
    "    cropped_image.save(make_dir + \"/\" + str(new_image_name) + \".jpg\")\n",
    "    \n",
    "    count += 1\n",
    "    \n",
    "print(\"saved \" + str(count) + \" images\")"
   ]
  },
  {
   "cell_type": "markdown",
   "id": "8089e619",
   "metadata": {},
   "source": [
    "# CNN Training"
   ]
  },
  {
   "cell_type": "code",
   "execution_count": 4,
   "id": "e4e4b958",
   "metadata": {},
   "outputs": [],
   "source": [
    "# 학습용 이미지 쪼개기\n",
    "# 저장된 이미지는 (1024*2560)\n",
    "\n",
    "image_width = 256\n",
    "image_height = 1024\n",
    "rows = 1\n",
    "columns = 10\n",
    "\n",
    "X = []\n",
    "Y = []\n",
    "\n",
    "for file_name in os.listdir(make_dir):\n",
    "    if file_name != '.DS_Store':\n",
    "        image = Image.open(make_dir+\"/\"+file_name).convert(\"L\")\n",
    "        for j in range(rows):\n",
    "\n",
    "            for i in range(columns):\n",
    "                cropped = image.crop((i*image_width,j*image_height,(i+1)*image_width,(j+1)*image_height))\n",
    "                cropped = np.array(cropped)\n",
    "                X.append(cropped)\n",
    "                Y.append(int(float(file_name[:-4])))"
   ]
  },
  {
   "cell_type": "code",
   "execution_count": 5,
   "id": "b41da88b",
   "metadata": {},
   "outputs": [
    {
     "name": "stdout",
     "output_type": "stream",
     "text": [
      "(1330, 1024, 256) (1330,)\n"
     ]
    }
   ],
   "source": [
    "X = np.array(X)/255.0\n",
    "Y = np.array(Y)\n",
    "print(X.shape, Y.shape)"
   ]
  },
  {
   "cell_type": "code",
   "execution_count": 6,
   "id": "a55ebb04",
   "metadata": {},
   "outputs": [],
   "source": [
    "standard_scaler_y = StandardScaler()\n",
    "reshape_y = Y.reshape(-1,1)\n",
    "reshape_y = standard_scaler_y.fit_transform(reshape_y)"
   ]
  },
  {
   "cell_type": "code",
   "execution_count": 7,
   "id": "6989bc27",
   "metadata": {},
   "outputs": [],
   "source": [
    "test_size = 0.2\n",
    "shuffle = True\n",
    "random_state = 42\n",
    "\n",
    "train_x, test_x, train_y, test_y = train_test_split(X, reshape_y, test_size=test_size, shuffle=shuffle, random_state=random_state)"
   ]
  },
  {
   "cell_type": "code",
   "execution_count": 8,
   "id": "dea8005c",
   "metadata": {},
   "outputs": [],
   "source": [
    "# callback\n",
    "patience=10\n",
    "early_stopping_cb = EarlyStopping(patience=patience, restore_best_weights=True, monitor='val_loss')"
   ]
  },
  {
   "cell_type": "code",
   "execution_count": 9,
   "id": "1c66bce9",
   "metadata": {},
   "outputs": [],
   "source": [
    "train_x_cnn = train_x[..., np.newaxis]\n",
    "test_x_cnn = test_x[..., np.newaxis]"
   ]
  },
  {
   "cell_type": "code",
   "execution_count": 10,
   "id": "b40c2c47",
   "metadata": {},
   "outputs": [
    {
     "data": {
      "text/plain": [
       "(1064, 1024, 256, 1)"
      ]
     },
     "execution_count": 10,
     "metadata": {},
     "output_type": "execute_result"
    }
   ],
   "source": [
    "train_x_cnn.shape"
   ]
  },
  {
   "cell_type": "code",
   "execution_count": 11,
   "id": "caefbf9a",
   "metadata": {},
   "outputs": [
    {
     "data": {
      "text/plain": [
       "(1064, 1)"
      ]
     },
     "execution_count": 11,
     "metadata": {},
     "output_type": "execute_result"
    }
   ],
   "source": [
    "train_y.shape"
   ]
  },
  {
   "cell_type": "code",
   "execution_count": 12,
   "id": "2c7d8550",
   "metadata": {},
   "outputs": [],
   "source": [
    "\n",
    "# sequential model\n",
    "cnn_model = keras.models.Sequential()\n",
    "\n",
    "# input and convolutional layer\n",
    "cnn_model.add(keras.layers.Conv2D(32, 7, activation='relu', padding='same',\n",
    "                                  input_shape=[1024, 256, 1]))\n",
    "# pooling layer\n",
    "cnn_model.add(keras.layers.MaxPooling2D(2))\n",
    "\n",
    "# convolutional layers and pooling layer\n",
    "cnn_model.add(keras.layers.Conv2D(64, 3, activation='relu', padding='same'))\n",
    "cnn_model.add(keras.layers.Conv2D(64, 3, activation='relu', padding='same'))\n",
    "cnn_model.add(keras.layers.MaxPooling2D(2))\n",
    "\n",
    "# convolutional layers and pooling layer\n",
    "cnn_model.add(keras.layers.Conv2D(128, 3, activation='relu', padding='same'))\n",
    "cnn_model.add(keras.layers.Conv2D(128, 3, activation='relu', padding='same'))\n",
    "cnn_model.add(keras.layers.MaxPooling2D(2))\n",
    "\n",
    "# flatten layer\n",
    "cnn_model.add(keras.layers.Flatten())\n",
    "\n",
    "# dense layers\n",
    "cnn_model.add(keras.layers.Dense(64, activation='relu'))\n",
    "cnn_model.add(keras.layers.Dense(32, activation='relu'))\n",
    "\n",
    "# output layer\n",
    "cnn_model.add(keras.layers.Dense(1))\n",
    "\n",
    "# model complie\n",
    "cnn_model.compile(optimizer='adam',loss='mse')"
   ]
  },
  {
   "cell_type": "code",
   "execution_count": 13,
   "id": "23801612",
   "metadata": {},
   "outputs": [
    {
     "name": "stdout",
     "output_type": "stream",
     "text": [
      "Model: \"sequential\"\n",
      "_________________________________________________________________\n",
      " Layer (type)                Output Shape              Param #   \n",
      "=================================================================\n",
      " conv2d (Conv2D)             (None, 1024, 256, 32)     1600      \n",
      "                                                                 \n",
      " max_pooling2d (MaxPooling2D  (None, 512, 128, 32)     0         \n",
      " )                                                               \n",
      "                                                                 \n",
      " conv2d_1 (Conv2D)           (None, 512, 128, 64)      18496     \n",
      "                                                                 \n",
      " conv2d_2 (Conv2D)           (None, 512, 128, 64)      36928     \n",
      "                                                                 \n",
      " max_pooling2d_1 (MaxPooling  (None, 256, 64, 64)      0         \n",
      " 2D)                                                             \n",
      "                                                                 \n",
      " conv2d_3 (Conv2D)           (None, 256, 64, 128)      73856     \n",
      "                                                                 \n",
      " conv2d_4 (Conv2D)           (None, 256, 64, 128)      147584    \n",
      "                                                                 \n",
      " max_pooling2d_2 (MaxPooling  (None, 128, 32, 128)     0         \n",
      " 2D)                                                             \n",
      "                                                                 \n",
      " flatten (Flatten)           (None, 524288)            0         \n",
      "                                                                 \n",
      " dense (Dense)               (None, 64)                33554496  \n",
      "                                                                 \n",
      " dense_1 (Dense)             (None, 32)                2080      \n",
      "                                                                 \n",
      " dense_2 (Dense)             (None, 1)                 33        \n",
      "                                                                 \n",
      "=================================================================\n",
      "Total params: 33,835,073\n",
      "Trainable params: 33,835,073\n",
      "Non-trainable params: 0\n",
      "_________________________________________________________________\n"
     ]
    }
   ],
   "source": [
    "cnn_model.summary()"
   ]
  },
  {
   "cell_type": "code",
   "execution_count": 14,
   "id": "b5736649",
   "metadata": {},
   "outputs": [
    {
     "name": "stdout",
     "output_type": "stream",
     "text": [
      "Epoch 1/100\n",
      "27/27 [==============================] - 15s 336ms/step - loss: 1.0786 - val_loss: 1.2141\n",
      "Epoch 2/100\n",
      "27/27 [==============================] - 5s 190ms/step - loss: 0.9534 - val_loss: 1.2132\n",
      "Epoch 3/100\n",
      "27/27 [==============================] - 5s 187ms/step - loss: 0.9463 - val_loss: 1.2205\n",
      "Epoch 4/100\n",
      "27/27 [==============================] - 5s 186ms/step - loss: 0.9395 - val_loss: 1.2284\n",
      "Epoch 5/100\n",
      "27/27 [==============================] - 5s 189ms/step - loss: 0.8044 - val_loss: 0.8724\n",
      "Epoch 6/100\n",
      "27/27 [==============================] - 5s 189ms/step - loss: 0.7380 - val_loss: 0.8386\n",
      "Epoch 7/100\n",
      "27/27 [==============================] - 5s 189ms/step - loss: 0.7304 - val_loss: 0.7605\n",
      "Epoch 8/100\n",
      "27/27 [==============================] - 5s 188ms/step - loss: 0.5919 - val_loss: 0.8339\n",
      "Epoch 9/100\n",
      "27/27 [==============================] - 5s 185ms/step - loss: 0.7251 - val_loss: 0.9375\n",
      "Epoch 10/100\n",
      "27/27 [==============================] - 5s 184ms/step - loss: 0.7397 - val_loss: 0.8740\n",
      "Epoch 11/100\n",
      "27/27 [==============================] - 5s 183ms/step - loss: 0.6370 - val_loss: 0.7703\n",
      "Epoch 12/100\n",
      "27/27 [==============================] - 5s 186ms/step - loss: 0.5164 - val_loss: 0.6019\n",
      "Epoch 13/100\n",
      "27/27 [==============================] - 5s 184ms/step - loss: 0.7248 - val_loss: 0.6990\n",
      "Epoch 14/100\n",
      "27/27 [==============================] - 5s 186ms/step - loss: 0.4604 - val_loss: 0.5834\n",
      "Epoch 15/100\n",
      "27/27 [==============================] - 5s 185ms/step - loss: 0.5134 - val_loss: 0.9308\n",
      "Epoch 16/100\n",
      "27/27 [==============================] - 5s 183ms/step - loss: 0.5025 - val_loss: 1.1152\n",
      "Epoch 17/100\n",
      "27/27 [==============================] - 5s 187ms/step - loss: 0.7314 - val_loss: 0.8301\n",
      "Epoch 18/100\n",
      "27/27 [==============================] - 5s 184ms/step - loss: 0.5883 - val_loss: 0.6772\n",
      "Epoch 19/100\n",
      "27/27 [==============================] - 5s 186ms/step - loss: 0.4400 - val_loss: 0.5340\n",
      "Epoch 20/100\n",
      "27/27 [==============================] - 5s 183ms/step - loss: 0.3557 - val_loss: 0.6399\n",
      "Epoch 21/100\n",
      "27/27 [==============================] - 5s 186ms/step - loss: 0.4068 - val_loss: 0.4892\n",
      "Epoch 22/100\n",
      "27/27 [==============================] - 5s 183ms/step - loss: 0.3394 - val_loss: 0.3353\n",
      "Epoch 23/100\n",
      "27/27 [==============================] - 5s 183ms/step - loss: 0.2819 - val_loss: 0.4350\n",
      "Epoch 24/100\n",
      "27/27 [==============================] - 5s 182ms/step - loss: 0.3172 - val_loss: 0.4441\n",
      "Epoch 25/100\n",
      "27/27 [==============================] - 5s 182ms/step - loss: 0.4298 - val_loss: 0.6873\n",
      "Epoch 26/100\n",
      "27/27 [==============================] - 5s 182ms/step - loss: 0.4499 - val_loss: 0.5673\n",
      "Epoch 27/100\n",
      "27/27 [==============================] - 5s 184ms/step - loss: 0.3773 - val_loss: 0.3045\n",
      "Epoch 28/100\n",
      "27/27 [==============================] - 5s 181ms/step - loss: 0.2987 - val_loss: 0.4387\n",
      "Epoch 29/100\n",
      "27/27 [==============================] - 5s 180ms/step - loss: 0.3273 - val_loss: 0.4401\n",
      "Epoch 30/100\n",
      "27/27 [==============================] - 5s 183ms/step - loss: 0.2445 - val_loss: 0.2672\n",
      "Epoch 31/100\n",
      "27/27 [==============================] - 5s 178ms/step - loss: 0.2264 - val_loss: 0.2802\n",
      "Epoch 32/100\n",
      "27/27 [==============================] - 5s 181ms/step - loss: 0.2296 - val_loss: 0.2408\n",
      "Epoch 33/100\n",
      "27/27 [==============================] - 5s 179ms/step - loss: 0.2159 - val_loss: 0.3661\n",
      "Epoch 34/100\n",
      "27/27 [==============================] - 5s 181ms/step - loss: 0.2732 - val_loss: 0.2371\n",
      "Epoch 35/100\n",
      "27/27 [==============================] - 5s 181ms/step - loss: 0.2521 - val_loss: 0.2012\n",
      "Epoch 36/100\n",
      "27/27 [==============================] - 5s 179ms/step - loss: 0.2439 - val_loss: 0.3023\n",
      "Epoch 37/100\n",
      "27/27 [==============================] - 5s 179ms/step - loss: 0.2550 - val_loss: 0.3995\n",
      "Epoch 38/100\n",
      "27/27 [==============================] - 5s 179ms/step - loss: 0.2752 - val_loss: 0.2861\n",
      "Epoch 39/100\n",
      "27/27 [==============================] - 5s 179ms/step - loss: 0.2060 - val_loss: 0.2431\n",
      "Epoch 40/100\n",
      "27/27 [==============================] - 5s 179ms/step - loss: 0.2581 - val_loss: 0.2078\n",
      "Epoch 41/100\n",
      "27/27 [==============================] - 5s 181ms/step - loss: 0.2062 - val_loss: 0.1968\n",
      "Epoch 42/100\n",
      "27/27 [==============================] - 5s 179ms/step - loss: 0.2150 - val_loss: 0.2317\n",
      "Epoch 43/100\n",
      "27/27 [==============================] - 5s 182ms/step - loss: 0.1959 - val_loss: 0.1934\n",
      "Epoch 44/100\n",
      "27/27 [==============================] - 5s 179ms/step - loss: 0.2068 - val_loss: 0.4341\n",
      "Epoch 45/100\n",
      "27/27 [==============================] - 5s 179ms/step - loss: 0.2549 - val_loss: 0.3750\n",
      "Epoch 46/100\n",
      "27/27 [==============================] - 5s 178ms/step - loss: 0.2317 - val_loss: 0.3193\n",
      "Epoch 47/100\n",
      "27/27 [==============================] - 5s 178ms/step - loss: 0.2040 - val_loss: 0.1956\n",
      "Epoch 48/100\n",
      "27/27 [==============================] - 5s 180ms/step - loss: 0.1921 - val_loss: 0.2391\n",
      "Epoch 49/100\n",
      "27/27 [==============================] - 5s 180ms/step - loss: 0.2271 - val_loss: 0.2452\n",
      "Epoch 50/100\n",
      "27/27 [==============================] - 5s 179ms/step - loss: 0.2167 - val_loss: 0.3275\n",
      "Epoch 51/100\n",
      "27/27 [==============================] - 5s 181ms/step - loss: 0.2753 - val_loss: 0.3929\n",
      "Epoch 52/100\n",
      "27/27 [==============================] - 5s 178ms/step - loss: 0.2809 - val_loss: 0.3757\n",
      "Epoch 53/100\n",
      "27/27 [==============================] - 5s 181ms/step - loss: 0.2624 - val_loss: 0.5045\n",
      "model is saved\n"
     ]
    }
   ],
   "source": [
    "path_directory = make_dir + \".h5\"\n",
    "istrue = os.path.exists(path_directory)\n",
    "\n",
    "if not istrue:\n",
    "    history = cnn_model.fit(train_x_cnn, train_y, callbacks=[early_stopping_cb],\n",
    "                            epochs=100, validation_split=0.2)\n",
    "    cnn_model.save(path_directory)\n",
    "    print(\"model is saved\")\n",
    "else:\n",
    "    cnn_model = keras.models.load_model(path_directory)\n",
    "    print(\"model is loaded\")"
   ]
  },
  {
   "cell_type": "markdown",
   "id": "2dec032c",
   "metadata": {},
   "source": [
    "# Results"
   ]
  },
  {
   "cell_type": "code",
   "execution_count": 15,
   "id": "c424c517",
   "metadata": {},
   "outputs": [
    {
     "name": "stdout",
     "output_type": "stream",
     "text": [
      "34/34 [==============================] - 2s 61ms/step - loss: 0.1721\n",
      "0.172121062874794\n"
     ]
    }
   ],
   "source": [
    "print(cnn_model.evaluate(train_x_cnn, train_y))\n"
   ]
  },
  {
   "cell_type": "code",
   "execution_count": 17,
   "id": "2cdc70ab",
   "metadata": {},
   "outputs": [
    {
     "data": {
      "image/png": "[encoded data removed]",
      "text/plain": [
       "<Figure size 640x480 with 1 Axes>"
      ]
     },
     "metadata": {},
     "output_type": "display_data"
    }
   ],
   "source": [
    "plt.plot(history.history['loss'][5:], 'b-', label='loss')\n",
    "plt.plot(history.history['val_loss'][5:], 'r--', label='val_loss')\n",
    "plt.xlabel('Epoch')\n",
    "plt.legend()\n",
    "plt.show()"
   ]
  },
  {
   "cell_type": "code",
   "execution_count": 18,
   "id": "fc1d2448",
   "metadata": {
    "scrolled": false
   },
   "outputs": [
    {
     "name": "stdout",
     "output_type": "stream",
     "text": [
      "9/9 [==============================] - 1s 136ms/step\n"
     ]
    },
    {
     "data": {
      "image/png": "[encoded data removed]",
      "text/plain": [
       "<Figure size 640x480 with 1 Axes>"
      ]
     },
     "metadata": {},
     "output_type": "display_data"
    }
   ],
   "source": [
    "pred = cnn_model.predict(test_x)\n",
    "inv_test_y = standard_scaler_y.inverse_transform(test_y)\n",
    "inv_pred = standard_scaler_y.inverse_transform(pred)\n",
    "\n",
    "x_ax = range(len(inv_pred))\n",
    "plt.scatter(x_ax, inv_test_y, s=5, color=\"blue\", label=\"original\")\n",
    "plt.plot(x_ax, inv_pred, lw=0.8, color=\"red\", label=\"predicted\")\n",
    "plt.legend()\n",
    "plt.show()"
   ]
  },
  {
   "cell_type": "code",
   "execution_count": 19,
   "id": "7a75c59a",
   "metadata": {},
   "outputs": [
    {
     "name": "stdout",
     "output_type": "stream",
     "text": [
      "RMSE: 5759.8777\n"
     ]
    }
   ],
   "source": [
    "print(\"RMSE: %.4f\" % mean_squared_error(inv_test_y, inv_pred)**(1/2))"
   ]
  },
  {
   "cell_type": "code",
   "execution_count": null,
   "id": "cad13b48",
   "metadata": {},
   "outputs": [],
   "source": []
  }
 ],
 "metadata": {
  "kernelspec": {
   "display_name": "Python 3 (ipykernel)",
   "language": "python",
   "name": "python3"
  },
  "language_info": {
   "codemirror_mode": {
    "name": "ipython",
    "version": 3
   },
   "file_extension": ".py",
   "mimetype": "text/x-python",
   "name": "python",
   "nbconvert_exporter": "python",
   "pygments_lexer": "ipython3",
   "version": "3.8.16"
  }
 },
 "nbformat": 4,
 "nbformat_minor": 5
}
