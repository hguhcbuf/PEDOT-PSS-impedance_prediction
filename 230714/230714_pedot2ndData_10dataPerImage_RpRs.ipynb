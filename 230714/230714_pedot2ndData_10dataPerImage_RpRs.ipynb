{
 "cells": [
  {
   "cell_type": "code",
   "execution_count": 1,
   "id": "d1f356e2",
   "metadata": {},
   "outputs": [],
   "source": [
    "import csv\n",
    "import tensorflow as tf\n",
    "import matplotlib.pyplot as plt\n",
    "import cv2\n",
    "import os\n",
    "import numpy as np\n",
    "from tensorflow.keras.preprocessing.image import ImageDataGenerator\n",
    "from tensorflow.keras.utils import load_img\n",
    "from PIL import Image\n",
    "from tensorflow import keras\n",
    "from glob import glob\n",
    "import pandas as pd\n",
    "import imutils\n",
    "from scipy.spatial import distance as dist\n",
    "from imutils import perspective\n",
    "from imutils import contours\n",
    "import argparse\n",
    "from sklearn.preprocessing import StandardScaler\n",
    "from sklearn.preprocessing import MinMaxScaler\n",
    "from sklearn.model_selection import train_test_split\n",
    "from keras.callbacks import ModelCheckpoint, EarlyStopping\n",
    "from sklearn.metrics import mean_squared_error"
   ]
  },
  {
   "cell_type": "markdown",
   "id": "0c243b85",
   "metadata": {},
   "source": [
    "# 2차로 추가로 받은 데이터입니다\n",
    "\n",
    "## imp = (Rp+Rs)/2 at 1000Hz"
   ]
  },
  {
   "cell_type": "markdown",
   "id": "28c4441e",
   "metadata": {},
   "source": [
    "# Data Pre-processing"
   ]
  },
  {
   "cell_type": "code",
   "execution_count": 2,
   "id": "1e21593e",
   "metadata": {},
   "outputs": [
    {
     "name": "stdout",
     "output_type": "stream",
     "text": [
      "file :  Generic C-f [(1) _30, 1, no.6_; 7_3_2023 1_46_05 PM].csv     imp :  5231.24\n",
      "file :  Generic C-f [(1) _30, 3, no.7_; 7_3_2023 1_50_42 PM].csv     imp :  10062.121\n",
      "file :  Generic C-f [(1) _30, 5, no.1_; 7_3_2023 1_52_00 PM].csv     imp :  41848.676\n",
      "file :  Generic C-f [(1) _30, 5, no.2_; 7_3_2023 1_52_26 PM].csv     imp :  38653.414\n",
      "file :  Generic C-f [(1) _30, 5, no.4_; 7_3_2023 1_53_19 PM].csv     imp :  55231.247\n",
      "file :  Generic C-f [(1) _30, 5, no.5_; 7_3_2023 1_53_47 PM].csv     imp :  48946.361\n",
      "file :  Generic C-f [(1) _30, 5, no.7_; 7_3_2023 1_54_59 PM].csv     imp :  39760.28\n",
      "file :  Generic C-f [(1) _30, 7, no.1_; 7_3_2023 1_55_40 PM].csv     imp :  54456.364\n",
      "file :  Generic C-f [(1) _40, 1, no.5_; 7_3_2023 1_26_50 PM].csv     imp :  3376.173\n",
      "file :  Generic C-f [(1) _40, 5, no.2_; 7_3_2023 1_33_31 PM].csv     imp :  14001.836\n",
      "file :  Generic C-f [(10) _40, 3, no.5_; 7_3_2023 1_30_34 PM].csv     imp :  8855.372\n",
      "file :  Generic C-f [(10) _70, 3, no.5_; 7_3_2023 12_16_08 PM].csv     imp :  1944.297\n",
      "file :  Generic C-f [(100) _60, 7, no.6_; 7_3_2023 12_51_06 PM].csv     imp :  3908.098\n",
      "file :  Generic C-f [(104) _60, 9, no.1_; 7_3_2023 12_52_21 PM].csv     imp :  6999.97\n",
      "file :  Generic C-f [(105) _60, 9, no.2_; 7_3_2023 12_53_00 PM].csv     imp :  4737.577\n",
      "file :  Generic C-f [(106) _60, 9, no.3_; 7_3_2023 12_53_29 PM].csv     imp :  3954.341\n",
      "file :  Generic C-f [(11) _40, 5, no.5_; 7_3_2023 1_36_39 PM].csv     imp :  15867.15\n",
      "file :  Generic C-f [(11) _70, 3, no.6_; 7_3_2023 12_16_39 PM].csv     imp :  1857.748\n",
      "file :  Generic C-f [(110) _60, 9, no.4_; 7_3_2023 12_54_13 PM].csv     imp :  4746.798\n",
      "file :  Generic C-f [(111) _60, 9, no.5_; 7_3_2023 12_54_41 PM].csv     imp :  4164.2\n",
      "file :  Generic C-f [(112) _60, 9, no.6_; 7_3_2023 12_55_06 PM].csv     imp :  3820.002\n",
      "file :  Generic C-f [(115) _50, 1, no.1_; 7_3_2023 12_56_44 PM].csv     imp :  1843.822\n",
      "file :  Generic C-f [(117) _50, 1, no.2_; 7_3_2023 12_57_18 PM].csv     imp :  2275.515\n",
      "file :  Generic C-f [(12) _70, 3, no.7_; 7_3_2023 12_17_27 PM].csv     imp :  2171.941\n",
      "file :  Generic C-f [(127) _50, 1, no.3_; 7_3_2023 12_58_47 PM].csv     imp :  1644.401\n",
      "file :  Generic C-f [(128) _50, 1, no.4_; 7_3_2023 12_59_19 PM].csv     imp :  1240.617\n",
      "file :  Generic C-f [(13) _70, 5, no.1_; 7_3_2023 12_18_33 PM].csv     imp :  2957.915\n",
      "file :  Generic C-f [(131) _50, 1, no.5_; 7_3_2023 1_00_08 PM].csv     imp :  1381.486\n",
      "file :  Generic C-f [(132) _50, 1, no.6_; 7_3_2023 1_00_38 PM].csv     imp :  1554.527\n",
      "file :  Generic C-f [(135) _50, 1, no.7_; 7_3_2023 1_01_35 PM].csv     imp :  2574.347\n",
      "file :  Generic C-f [(137) _50, 3, no.1_; 7_3_2023 1_02_20 PM].csv     imp :  2772.733\n",
      "file :  Generic C-f [(139) _50, 3, no.2_; 7_3_2023 1_03_07 PM].csv     imp :  2240.339\n",
      "file :  Generic C-f [(14) _70, 5, no.2_; 7_3_2023 12_19_06 PM].csv     imp :  2611.128\n",
      "file :  Generic C-f [(141) _50, 3, no.3_; 7_3_2023 1_03_37 PM].csv     imp :  2912.899\n",
      "file :  Generic C-f [(143) _50, 3, no.4_; 7_3_2023 1_08_07 PM].csv     imp :  2861.555\n",
      "file :  Generic C-f [(145) _50, 3, no.5_; 7_3_2023 1_08_41 PM].csv     imp :  2844.885\n",
      "file :  Generic C-f [(148) _50, 3, no.6_; 7_3_2023 1_09_16 PM].csv     imp :  3314.638\n",
      "file :  Generic C-f [(15) _40, 3, no.6_; 7_3_2023 1_31_39 PM].csv     imp :  13222.405\n",
      "file :  Generic C-f [(151) _50, 3, no.7_; 7_3_2023 1_09_51 PM].csv     imp :  3512.428\n",
      "file :  Generic C-f [(159) _50, 5, no.2_; 7_3_2023 1_11_43 PM].csv     imp :  3981.64\n",
      "file :  Generic C-f [(16) _40, 7, no.3__; 7_3_2023 1_38_33 PM].csv     imp :  27195.978\n",
      "file :  Generic C-f [(16) _70, 5, no.3_; 7_3_2023 12_19_58 PM].csv     imp :  1765.916\n",
      "file :  Generic C-f [(160) _50, 5, no.3_; 7_3_2023 1_12_10 PM].csv     imp :  3858.228\n",
      "file :  Generic C-f [(162) _50, 5, no.4_; 7_3_2023 1_12_44 PM].csv     imp :  3478.659\n",
      "file :  Generic C-f [(164) _50, 5, no.5_; 7_3_2023 1_13_20 PM].csv     imp :  3635.038\n",
      "file :  Generic C-f [(166) _50, 5, no.6_; 7_3_2023 1_13_55 PM].csv     imp :  3626.635\n",
      "file :  Generic C-f [(169) _50, 5, no.7_; 7_3_2023 1_14_30 PM].csv     imp :  4450.15\n",
      "file :  Generic C-f [(17) _70, 5, no.4_; 7_3_2023 12_20_34 PM].csv     imp :  2208.479\n",
      "file :  Generic C-f [(173) _50, 7, no.2_; 7_3_2023 1_15_32 PM].csv     imp :  7602.941\n",
      "file :  Generic C-f [(175) _50, 7, no.3_; 7_3_2023 1_16_07 PM].csv     imp :  5677.51\n",
      "file :  Generic C-f [(178) _50, 7, no.4_; 7_3_2023 1_16_55 PM].csv     imp :  6096.272\n",
      "file :  Generic C-f [(18) _70, 5, no.5_; 7_3_2023 12_21_03 PM].csv     imp :  2339.387\n",
      "file :  Generic C-f [(181) _50, 7, no.5_; 7_3_2023 1_17_36 PM].csv     imp :  5544.949\n",
      "file :  Generic C-f [(186) _50, 7, no.7_; 7_3_2023 1_18_59 PM].csv     imp :  5571.74\n",
      "file :  Generic C-f [(19) _70, 5, no.6_; 7_3_2023 12_21_34 PM].csv     imp :  2199.556\n",
      "file :  Generic C-f [(192) _50, 9, no.1_; 7_3_2023 1_20_19 PM].csv     imp :  8714.362\n",
      "file :  Generic C-f [(194) _50, 9, no.2_; 7_3_2023 1_20_49 PM].csv     imp :  7755.734\n",
      "file :  Generic C-f [(195) _50, 9, no.3_; 7_3_2023 1_21_20 PM].csv     imp :  7701.173\n",
      "file :  Generic C-f [(196) _50, 9, no.4_; 7_3_2023 1_21_47 PM].csv     imp :  7612.975\n",
      "file :  Generic C-f [(197) _50, 9, no.5_; 7_3_2023 1_22_11 PM].csv     imp :  6153.788\n",
      "file :  Generic C-f [(198) _50, 9, no.6_; 7_3_2023 1_22_36 PM].csv     imp :  6405.862\n",
      "file :  Generic C-f [(199) _50, 9, no.7_; 7_3_2023 1_23_01 PM].csv     imp :  6425.204\n",
      "file :  Generic C-f [(2) _30, 1, no.3_; 7_3_2023 1_43_50 PM].csv     imp :  4397.751\n",
      "file :  Generic C-f [(2) _30, 1, no.7_; 7_3_2023 1_46_36 PM].csv     imp :  4061.721\n",
      "file :  Generic C-f [(2) _30, 5, no.3_; 7_3_2023 1_52_52 PM].csv     imp :  41094.139\n",
      "file :  Generic C-f [(2) _30, 5, no.6_; 7_3_2023 1_54_24 PM].csv     imp :  30912.353\n",
      "file :  Generic C-f [(2) _30, 7, no.2_; 7_3_2023 1_59_19 PM].csv     imp :  48096.17\n",
      "file :  Generic C-f [(206) _40, 1, no.1_; 7_3_2023 1_24_48 PM].csv     imp :  4603.397\n",
      "file :  Generic C-f [(207) _40, 1, no.2_; 7_3_2023 1_25_11 PM].csv     imp :  3533.25\n",
      "file :  Generic C-f [(21) _70, 5, no.7_; 7_3_2023 12_22_14 PM].csv     imp :  2799.542\n",
      "file :  Generic C-f [(210) _40, 1, no.3_; 7_3_2023 1_25_46 PM].csv     imp :  5331.472\n",
      "file :  Generic C-f [(211) _40, 1, no.4_; 7_3_2023 1_26_06 PM].csv     imp :  3376.711\n",
      "file :  Generic C-f [(22) _40, 5, no.1_; 7_3_2023 1_33_08 PM].csv     imp :  15800.531\n",
      "file :  Generic C-f [(23) _70, 7, no.1_; 7_3_2023 12_23_13 PM].csv     imp :  4610.057\n",
      "file :  Generic C-f [(24) _70, 7, no.2_; 7_3_2023 12_23_40 PM].csv     imp :  4015.584\n",
      "file :  Generic C-f [(25) _70, 7, no.3_; 7_3_2023 12_24_13 PM].csv     imp :  2746.673\n",
      "file :  Generic C-f [(27) _70, 7, no.4_; 7_3_2023 12_25_01 PM].csv     imp :  2375.807\n",
      "file :  Generic C-f [(28) _70, 7, no.5_; 7_3_2023 12_25_32 PM].csv     imp :  3059.128\n",
      "file :  Generic C-f [(3) _30, 1, no.4_; 7_3_2023 1_44_38 PM].csv     imp :  4603.701\n",
      "file :  Generic C-f [(3) _30, 3, no.5_; 7_3_2023 1_49_51 PM].csv     imp :  29739.985\n",
      "file :  Generic C-f [(3) _40, 1, no.6_; 7_3_2023 1_27_25 PM].csv     imp :  3948.539\n",
      "file :  Generic C-f [(3) _40, 3, no.1_; 7_3_2023 1_28_51 PM].csv     imp :  8716.237\n",
      "file :  Generic C-f [(3) _40, 7, no.5_; 7_3_2023 1_39_32 PM].csv     imp :  24571.005\n",
      "file :  Generic C-f [(31) _70, 7, no.6_; 7_3_2023 12_26_36 PM].csv     imp :  2669.834\n",
      "file :  Generic C-f [(33) _70, 7, no.7_; 7_3_2023 12_27_28 PM].csv     imp :  3443.113\n",
      "file :  Generic C-f [(34) _70, 9, no.1_; 7_3_2023 12_28_01 PM].csv     imp :  4878.809\n",
      "file :  Generic C-f [(35) _70, 9, no.2_; 7_3_2023 12_28_25 PM].csv     imp :  3636.359\n",
      "file :  Generic C-f [(36) _70, 9 , no.3_; 7_3_2023 12_28_56 PM].csv     imp :  3730.079\n",
      "file :  Generic C-f [(37) _70, 9 , no.4_; 7_3_2023 12_29_20 PM].csv     imp :  3286.992\n",
      "file :  Generic C-f [(38) _70, 9, no.5_; 7_3_2023 12_29_57 PM].csv     imp :  3628.262\n",
      "file :  Generic C-f [(4) _30, 1, no.5_; 7_3_2023 1_45_28 PM].csv     imp :  5324.343\n",
      "file :  Generic C-f [(4) _30, 3, no.6_; 7_3_2023 1_50_17 PM].csv     imp :  11977.449\n",
      "file :  Generic C-f [(4) _30, 7, no.3_; 7_3_2023 1_59_58 PM].csv     imp :  75286.686\n",
      "file :  Generic C-f [(4) _40, 3, no.2_; 7_3_2023 1_29_17 PM].csv     imp :  8661.665\n",
      "file :  Generic C-f [(4) _40, 9, no.1_; 7_3_2023 1_40_49 PM].csv     imp :  11658.474\n",
      "file :  Generic C-f [(40) _70, 9, no.6_; 7_3_2023 12_30_40 PM].csv     imp :  3836.597\n",
      "file :  Generic C-f [(47) _60, 1, no.1_; 7_3_2023 12_33_15 PM].csv     imp :  1342.635\n",
      "file :  Generic C-f [(48) _60, 1, no.2_; 7_3_2023 12_33_47 PM].csv     imp :  1034.343\n",
      "file :  Generic C-f [(5) _30, 7, no.4_; 7_3_2023 2_00_33 PM].csv     imp :  29027.803\n",
      "file :  Generic C-f [(5) _70, 3, no.1_; 7_3_2023 12_13_14 PM].csv     imp :  1617.909\n",
      "file :  Generic C-f [(52) _60, 1, no.3_; 7_3_2023 12_35_40 PM].csv     imp :  717.888\n",
      "file :  Generic C-f [(53) _60, 1, no.4_; 7_3_2023 12_36_05 PM].csv     imp :  843.594\n",
      "file :  Generic C-f [(54) _60, 1, no.5_; 7_3_2023 12_36_34 PM].csv     imp :  959.208\n",
      "file :  Generic C-f [(55) _60, 1, no.6_; 7_3_2023 12_37_06 PM].csv     imp :  856.857\n",
      "file :  Generic C-f [(58) _60, 3, no.1_; 7_3_2023 12_38_07 PM].csv     imp :  1669.588\n",
      "file :  Generic C-f [(6) _30, 1, no.1_; 7_3_2023 1_42_40 PM].csv     imp :  4737.157\n",
      "file :  Generic C-f [(6) _40, 1, no.7_; 7_3_2023 1_28_01 PM].csv     imp :  3297.536\n",
      "file :  Generic C-f [(6) _40, 5, no.6_; 7_3_2023 1_34_57 PM].csv     imp :  23483.224\n",
      "file :  Generic C-f [(60) _60, 3, no.2_; 7_3_2023 12_38_38 PM].csv     imp :  1486.4\n",
      "file :  Generic C-f [(61) _60, 3, no.3_; 7_3_2023 12_39_06 PM].csv     imp :  1744.996\n",
      "file :  Generic C-f [(63) _60, 3, no.4_; 7_3_2023 12_39_52 PM].csv     imp :  1311.504\n",
      "file :  Generic C-f [(65) _60, 3, no.5_; 7_3_2023 12_40_22 PM].csv     imp :  1437.072\n",
      "file :  Generic C-f [(67) _60, 3, no.6_; 7_3_2023 12_41_00 PM].csv     imp :  1400.841\n",
      "file :  Generic C-f [(7) _30, 1, no.2_; 7_3_2023 1_43_07 PM].csv     imp :  4081.211\n",
      "file :  Generic C-f [(7) _70, 3, no.2_; 7_3_2023 12_14_19 PM].csv     imp :  2215.025\n",
      "file :  Generic C-f [(70) _60, 3, no.7_; 7_3_2023 12_41_46 PM].csv     imp :  1898.428\n",
      "file :  Generic C-f [(73) _60, 5, no.1_; 7_3_2023 12_42_38 PM].csv     imp :  2777.458\n",
      "file :  Generic C-f [(75) _60, 5, no.2_; 7_3_2023 12_43_07 PM].csv     imp :  3159.188\n",
      "file :  Generic C-f [(77) _60, 5, no.3_; 7_3_2023 12_43_41 PM].csv     imp :  3250.262\n",
      "file :  Generic C-f [(79) _60, 5, no.4_; 7_3_2023 12_44_09 PM].csv     imp :  3017.692\n",
      "file :  Generic C-f [(8) _30, 3, no.3_; 7_3_2023 1_48_35 PM].csv     imp :  33164.557\n",
      "file :  Generic C-f [(8) _70, 3, no.3_; 7_3_2023 12_14_51 PM].csv     imp :  1688.232\n",
      "file :  Generic C-f [(82) _60, 5, no.5_; 7_3_2023 12_44_50 PM].csv     imp :  2355.415\n",
      "file :  Generic C-f [(86) _60, 5, no.6_; 7_3_2023 12_45_32 PM].csv     imp :  4104.493\n",
      "file :  Generic C-f [(9) _30, 3, no.4_; 7_3_2023 1_49_11 PM].csv     imp :  27658.121\n",
      "file :  Generic C-f [(9) _40, 3, no.4_; 7_3_2023 1_30_10 PM].csv     imp :  7529.362\n",
      "file :  Generic C-f [(9) _40, 5, no.4_; 7_3_2023 1_36_02 PM].csv     imp :  24094.029\n",
      "file :  Generic C-f [(9) _70, 3, no.4_; 7_3_2023 12_15_20 PM].csv     imp :  1482.275\n",
      "file :  Generic C-f [(92) _60, 7, no.1_; 7_3_2023 12_46_49 PM].csv     imp :  5369.113\n",
      "file :  Generic C-f [(93) _60, 7, no.2_; 7_3_2023 12_47_33 PM].csv     imp :  5011.775\n",
      "file :  Generic C-f [(94) _60, 7, no.3_; 7_3_2023 12_48_06 PM].csv     imp :  4139.38\n",
      "file :  Generic C-f [(95) _60, 7, no.4_; 7_3_2023 12_48_33 PM].csv     imp :  3398.718\n",
      "file :  Generic C-f [(97) _60, 7, no.5_; 7_3_2023 12_49_07 PM].csv     imp :  2791.39\n"
     ]
    }
   ],
   "source": [
    "#각 엑셀 파일에서 Rp, Rs 값 추출\n",
    "\n",
    "file_names_list = []\n",
    "imp_list = []\n",
    "dir = \"data_files/0713/excel_files\"\n",
    "\n",
    "for file in os.listdir(dir):\n",
    "    file_name = dir + \"/\" + file\n",
    "    f = open(file_name,'r', encoding='UTF8')\n",
    "    rdr = list(csv.reader(f))\n",
    "    Rp = round(float(rdr[120][8])/5, 3)\n",
    "    Rs = round(float(rdr[120][10])/5, 3)\n",
    "    imp = round((Rp+Rs)/2, 3)\n",
    "    file_names_list.append(file.split(\"_\")[1].replace(\" \", \"\").replace(\",\", \"\").replace(\".\", \"\"))\n",
    "    imp_list.append((Rp+Rs)/2)\n",
    "    \n",
    "    print(\"file : \", file, \"    imp : \", imp)\n",
    "    \n",
    "    f.close()\n"
   ]
  },
  {
   "cell_type": "code",
   "execution_count": 37,
   "id": "9eeebe71",
   "metadata": {},
   "outputs": [],
   "source": [
    "# save cropped images with impedance values on their file names"
   ]
  },
  {
   "cell_type": "code",
   "execution_count": 4,
   "id": "c43ed998",
   "metadata": {},
   "outputs": [
    {
     "name": "stdout",
     "output_type": "stream",
     "text": [
      "cannot find excel file for : 30, 3, no.1.jpg\n",
      "cannot find excel file for : 30, 3, no.2.jpg\n",
      "cannot find excel file for : 40, 3, no.3.jpg\n",
      "cannot find excel file for : 40, 3, no.7.jpg\n",
      "cannot find excel file for : 40, 5, no.3.jpg\n",
      "cannot find excel file for : 40, 5, no.7.jpg\n",
      "cannot find excel file for : 40, 7, no.1.jpg\n",
      "cannot find excel file for : 40, 7, no.2.jpg\n",
      "cannot find excel file for : 40, 7, no.4.jpg\n",
      "cannot find excel file for : 40, 7, no.6.jpg\n",
      "cannot find excel file for : 40, 7, no.7.jpg\n",
      "cannot find excel file for : 40, 9, no.2.jpg\n",
      "cannot find excel file for : 50, 5, no.1.jpg\n",
      "cannot find excel file for : 50, 7, no.1.jpg\n",
      "cannot find excel file for : 50, 7, no.6.jpg\n",
      "cannot find excel file for : 60, 5, no.7.jpg\n",
      "cannot find excel file for : 60, 7, no.7.jpg\n",
      "cannot find excel file for : 60, 9, no.7.jpg\n",
      "cannot find excel file for : 70, 1, no.1.jpg\n",
      "cannot find excel file for : 70, 1, no.2.jpg\n",
      "cannot find excel file for : 70, 1, no.3.jpg\n",
      "cannot find excel file for : 70, 1, no.4.jpg\n",
      "cannot find excel file for : 70, 1, no.5.jpg\n",
      "cannot find excel file for : 70, 1, no.6.jpg\n",
      "cannot find excel file for : 70, 1, no.7.jpg\n",
      "cannot find excel file for : 70, 9, no.7.jpg\n",
      "saved 133 images\n"
     ]
    }
   ],
   "source": [
    "ground_dir = \"data_files/0713/\"\n",
    "image_dir = ground_dir + \"images\"\n",
    "make_dir = ground_dir + \"processed_images_Rp\"\n",
    "os.makedirs(make_dir)\n",
    "\n",
    "count = 0\n",
    "\n",
    "for file in os.listdir(image_dir):\n",
    "    \n",
    "    original_image_name = file[:-4].replace(\" \", \"\").replace(\",\", \"\").replace(\".\", \"\")\n",
    "    \n",
    "    try:\n",
    "        imp_index = file_names_list.index(original_image_name)\n",
    "    except ValueError:\n",
    "        print(\"cannot find excel file for : \" + file)\n",
    "        continue\n",
    "     \n",
    "    new_image_name = imp_list[imp_index]\n",
    "    image = load_img(image_dir + \"/\" + file)\n",
    "    cropped_image = image.crop((0,448,2560,1472))\n",
    "    cropped_image.save(make_dir + \"/\" + str(new_image_name) + \".jpg\")\n",
    "    \n",
    "    count += 1\n",
    "    \n",
    "print(\"saved \" + str(count) + \" images\")"
   ]
  },
  {
   "cell_type": "markdown",
   "id": "8089e619",
   "metadata": {},
   "source": [
    "# CNN Training"
   ]
  },
  {
   "cell_type": "code",
   "execution_count": 5,
   "id": "e4e4b958",
   "metadata": {},
   "outputs": [],
   "source": [
    "# 학습용 이미지 쪼개기\n",
    "# 저장된 이미지는 (1024*2560)\n",
    "\n",
    "image_width = 256\n",
    "image_height = 1024\n",
    "rows = 1\n",
    "columns = 10\n",
    "\n",
    "X = []\n",
    "Y = []\n",
    "\n",
    "for file_name in os.listdir(make_dir):\n",
    "    if file_name != '.DS_Store':\n",
    "        image = Image.open(make_dir+\"/\"+file_name).convert(\"L\")\n",
    "        for j in range(rows):\n",
    "\n",
    "            for i in range(columns):\n",
    "                cropped = image.crop((i*image_width,j*image_height,(i+1)*image_width,(j+1)*image_height))\n",
    "                cropped = np.array(cropped)\n",
    "                X.append(cropped)\n",
    "                Y.append(int(float(file_name[:-4])))"
   ]
  },
  {
   "cell_type": "code",
   "execution_count": 6,
   "id": "b41da88b",
   "metadata": {},
   "outputs": [
    {
     "name": "stdout",
     "output_type": "stream",
     "text": [
      "(1330, 1024, 256) (1330,)\n"
     ]
    }
   ],
   "source": [
    "X = np.array(X)/255.0\n",
    "Y = np.array(Y)\n",
    "print(X.shape, Y.shape)"
   ]
  },
  {
   "cell_type": "code",
   "execution_count": 7,
   "id": "a55ebb04",
   "metadata": {},
   "outputs": [],
   "source": [
    "standard_scaler_y = StandardScaler()\n",
    "reshape_y = Y.reshape(-1,1)\n",
    "reshape_y = standard_scaler_y.fit_transform(reshape_y)"
   ]
  },
  {
   "cell_type": "code",
   "execution_count": 8,
   "id": "6989bc27",
   "metadata": {},
   "outputs": [],
   "source": [
    "test_size = 0.2\n",
    "shuffle = True\n",
    "random_state = 42\n",
    "\n",
    "train_x, test_x, train_y, test_y = train_test_split(X, reshape_y, test_size=test_size, shuffle=shuffle, random_state=random_state)"
   ]
  },
  {
   "cell_type": "code",
   "execution_count": 9,
   "id": "dea8005c",
   "metadata": {},
   "outputs": [],
   "source": [
    "# callback\n",
    "patience=10\n",
    "early_stopping_cb = EarlyStopping(patience=patience, restore_best_weights=True, monitor='val_loss')"
   ]
  },
  {
   "cell_type": "code",
   "execution_count": 10,
   "id": "1c66bce9",
   "metadata": {},
   "outputs": [],
   "source": [
    "train_x_cnn = train_x[..., np.newaxis]\n",
    "test_x_cnn = test_x[..., np.newaxis]"
   ]
  },
  {
   "cell_type": "code",
   "execution_count": 11,
   "id": "b40c2c47",
   "metadata": {},
   "outputs": [
    {
     "data": {
      "text/plain": [
       "(1064, 1024, 256, 1)"
      ]
     },
     "execution_count": 11,
     "metadata": {},
     "output_type": "execute_result"
    }
   ],
   "source": [
    "train_x_cnn.shape"
   ]
  },
  {
   "cell_type": "code",
   "execution_count": 12,
   "id": "caefbf9a",
   "metadata": {},
   "outputs": [
    {
     "data": {
      "text/plain": [
       "(1064, 1)"
      ]
     },
     "execution_count": 12,
     "metadata": {},
     "output_type": "execute_result"
    }
   ],
   "source": [
    "train_y.shape"
   ]
  },
  {
   "cell_type": "code",
   "execution_count": 13,
   "id": "2c7d8550",
   "metadata": {},
   "outputs": [],
   "source": [
    "\n",
    "# sequential model\n",
    "cnn_model = keras.models.Sequential()\n",
    "\n",
    "# input and convolutional layer\n",
    "cnn_model.add(keras.layers.Conv2D(32, 7, activation='relu', padding='same',\n",
    "                                  input_shape=[1024, 256, 1]))\n",
    "# pooling layer\n",
    "cnn_model.add(keras.layers.MaxPooling2D(2))\n",
    "\n",
    "# convolutional layers and pooling layer\n",
    "cnn_model.add(keras.layers.Conv2D(64, 3, activation='relu', padding='same'))\n",
    "cnn_model.add(keras.layers.Conv2D(64, 3, activation='relu', padding='same'))\n",
    "cnn_model.add(keras.layers.MaxPooling2D(2))\n",
    "\n",
    "# convolutional layers and pooling layer\n",
    "cnn_model.add(keras.layers.Conv2D(128, 3, activation='relu', padding='same'))\n",
    "cnn_model.add(keras.layers.Conv2D(128, 3, activation='relu', padding='same'))\n",
    "cnn_model.add(keras.layers.MaxPooling2D(2))\n",
    "\n",
    "# flatten layer\n",
    "cnn_model.add(keras.layers.Flatten())\n",
    "\n",
    "# dense layers\n",
    "cnn_model.add(keras.layers.Dense(64, activation='relu'))\n",
    "cnn_model.add(keras.layers.Dense(32, activation='relu'))\n",
    "\n",
    "# output layer\n",
    "cnn_model.add(keras.layers.Dense(1))\n",
    "\n",
    "# model complie\n",
    "cnn_model.compile(optimizer='adam',loss='mse')"
   ]
  },
  {
   "cell_type": "code",
   "execution_count": 14,
   "id": "23801612",
   "metadata": {},
   "outputs": [
    {
     "name": "stdout",
     "output_type": "stream",
     "text": [
      "Model: \"sequential\"\n",
      "_________________________________________________________________\n",
      " Layer (type)                Output Shape              Param #   \n",
      "=================================================================\n",
      " conv2d (Conv2D)             (None, 1024, 256, 32)     1600      \n",
      "                                                                 \n",
      " max_pooling2d (MaxPooling2D  (None, 512, 128, 32)     0         \n",
      " )                                                               \n",
      "                                                                 \n",
      " conv2d_1 (Conv2D)           (None, 512, 128, 64)      18496     \n",
      "                                                                 \n",
      " conv2d_2 (Conv2D)           (None, 512, 128, 64)      36928     \n",
      "                                                                 \n",
      " max_pooling2d_1 (MaxPooling  (None, 256, 64, 64)      0         \n",
      " 2D)                                                             \n",
      "                                                                 \n",
      " conv2d_3 (Conv2D)           (None, 256, 64, 128)      73856     \n",
      "                                                                 \n",
      " conv2d_4 (Conv2D)           (None, 256, 64, 128)      147584    \n",
      "                                                                 \n",
      " max_pooling2d_2 (MaxPooling  (None, 128, 32, 128)     0         \n",
      " 2D)                                                             \n",
      "                                                                 \n",
      " flatten (Flatten)           (None, 524288)            0         \n",
      "                                                                 \n",
      " dense (Dense)               (None, 64)                33554496  \n",
      "                                                                 \n",
      " dense_1 (Dense)             (None, 32)                2080      \n",
      "                                                                 \n",
      " dense_2 (Dense)             (None, 1)                 33        \n",
      "                                                                 \n",
      "=================================================================\n",
      "Total params: 33,835,073\n",
      "Trainable params: 33,835,073\n",
      "Non-trainable params: 0\n",
      "_________________________________________________________________\n"
     ]
    }
   ],
   "source": [
    "cnn_model.summary()"
   ]
  },
  {
   "cell_type": "code",
   "execution_count": 15,
   "id": "b5736649",
   "metadata": {},
   "outputs": [
    {
     "name": "stdout",
     "output_type": "stream",
     "text": [
      "Epoch 1/100\n",
      "27/27 [==============================] - 15s 335ms/step - loss: 25.3113 - val_loss: 1.1348\n",
      "Epoch 2/100\n",
      "27/27 [==============================] - 5s 190ms/step - loss: 1.0006 - val_loss: 1.1128\n",
      "Epoch 3/100\n",
      "27/27 [==============================] - 5s 188ms/step - loss: 0.9894 - val_loss: 1.1194\n",
      "Epoch 4/100\n",
      "27/27 [==============================] - 5s 189ms/step - loss: 0.9702 - val_loss: 0.9856\n",
      "Epoch 5/100\n",
      "27/27 [==============================] - 5s 190ms/step - loss: 0.8981 - val_loss: 0.8362\n",
      "Epoch 6/100\n",
      "27/27 [==============================] - 5s 189ms/step - loss: 0.5983 - val_loss: 0.5722\n",
      "Epoch 7/100\n",
      "27/27 [==============================] - 5s 189ms/step - loss: 0.5359 - val_loss: 0.5407\n",
      "Epoch 8/100\n",
      "27/27 [==============================] - 5s 187ms/step - loss: 0.4466 - val_loss: 0.5682\n",
      "Epoch 9/100\n",
      "27/27 [==============================] - 5s 189ms/step - loss: 0.5718 - val_loss: 0.5952\n",
      "Epoch 10/100\n",
      "27/27 [==============================] - 5s 190ms/step - loss: 0.4844 - val_loss: 0.4360\n",
      "Epoch 11/100\n",
      "27/27 [==============================] - 5s 191ms/step - loss: 0.3929 - val_loss: 0.4327\n",
      "Epoch 12/100\n",
      "27/27 [==============================] - 5s 191ms/step - loss: 0.3483 - val_loss: 0.3758\n",
      "Epoch 13/100\n",
      "27/27 [==============================] - 5s 189ms/step - loss: 0.3695 - val_loss: 0.3642\n",
      "Epoch 14/100\n",
      "27/27 [==============================] - 5s 192ms/step - loss: 0.2864 - val_loss: 0.2961\n",
      "Epoch 15/100\n",
      "27/27 [==============================] - 5s 186ms/step - loss: 0.2885 - val_loss: 0.3818\n",
      "Epoch 16/100\n",
      "27/27 [==============================] - 5s 188ms/step - loss: 0.3374 - val_loss: 0.3343\n",
      "Epoch 17/100\n",
      "27/27 [==============================] - 5s 188ms/step - loss: 0.3656 - val_loss: 0.4019\n",
      "Epoch 18/100\n",
      "27/27 [==============================] - 5s 187ms/step - loss: 0.3216 - val_loss: 0.3196\n",
      "Epoch 19/100\n",
      "27/27 [==============================] - 5s 186ms/step - loss: 0.2637 - val_loss: 0.3088\n",
      "Epoch 20/100\n",
      "27/27 [==============================] - 5s 187ms/step - loss: 0.3102 - val_loss: 0.3775\n",
      "Epoch 21/100\n",
      "27/27 [==============================] - 5s 188ms/step - loss: 0.3208 - val_loss: 0.2208\n",
      "Epoch 22/100\n",
      "27/27 [==============================] - 5s 186ms/step - loss: 0.2463 - val_loss: 0.2211\n",
      "Epoch 23/100\n",
      "27/27 [==============================] - 5s 188ms/step - loss: 0.2620 - val_loss: 0.2204\n",
      "Epoch 24/100\n",
      "27/27 [==============================] - 5s 187ms/step - loss: 0.3858 - val_loss: 0.9524\n",
      "Epoch 25/100\n",
      "27/27 [==============================] - 5s 188ms/step - loss: 0.9371 - val_loss: 0.8271\n",
      "Epoch 26/100\n",
      "27/27 [==============================] - 5s 191ms/step - loss: 0.6709 - val_loss: 0.8355\n",
      "Epoch 27/100\n",
      "27/27 [==============================] - 5s 185ms/step - loss: 0.5882 - val_loss: 0.4195\n",
      "Epoch 28/100\n",
      "27/27 [==============================] - 5s 185ms/step - loss: 0.2966 - val_loss: 0.5274\n",
      "Epoch 29/100\n",
      "27/27 [==============================] - 5s 185ms/step - loss: 0.2862 - val_loss: 0.3353\n",
      "Epoch 30/100\n",
      "27/27 [==============================] - 5s 185ms/step - loss: 0.3019 - val_loss: 0.7926\n",
      "Epoch 31/100\n",
      "27/27 [==============================] - 5s 186ms/step - loss: 0.7029 - val_loss: 0.6073\n",
      "Epoch 32/100\n",
      "27/27 [==============================] - 5s 187ms/step - loss: 0.4454 - val_loss: 0.3873\n",
      "Epoch 33/100\n",
      "27/27 [==============================] - 5s 188ms/step - loss: 0.3558 - val_loss: 0.3420\n",
      "model is saved\n"
     ]
    }
   ],
   "source": [
    "path_directory = make_dir + \".h5\"\n",
    "istrue = os.path.exists(path_directory)\n",
    "\n",
    "if not istrue:\n",
    "    history = cnn_model.fit(train_x_cnn, train_y, callbacks=[early_stopping_cb],\n",
    "                            epochs=100, validation_split=0.2)\n",
    "    cnn_model.save(path_directory)\n",
    "    print(\"model is saved\")\n",
    "else:\n",
    "    cnn_model = keras.models.load_model(path_directory)\n",
    "    print(\"model is loaded\")"
   ]
  },
  {
   "cell_type": "markdown",
   "id": "2dec032c",
   "metadata": {},
   "source": [
    "# Results"
   ]
  },
  {
   "cell_type": "code",
   "execution_count": 16,
   "id": "c424c517",
   "metadata": {},
   "outputs": [
    {
     "name": "stdout",
     "output_type": "stream",
     "text": [
      "34/34 [==============================] - 2s 61ms/step - loss: 0.2142\n",
      "0.21419957280158997\n"
     ]
    }
   ],
   "source": [
    "print(cnn_model.evaluate(train_x_cnn, train_y))\n"
   ]
  },
  {
   "cell_type": "code",
   "execution_count": 17,
   "id": "2cdc70ab",
   "metadata": {},
   "outputs": [
    {
     "data": {
      "image/png": "[encoded data removed]",
      "text/plain": [
       "<Figure size 640x480 with 1 Axes>"
      ]
     },
     "metadata": {},
     "output_type": "display_data"
    }
   ],
   "source": [
    "plt.plot(history.history['loss'][5:], 'b-', label='loss')\n",
    "plt.plot(history.history['val_loss'][5:], 'r--', label='val_loss')\n",
    "plt.xlabel('Epoch')\n",
    "plt.legend()\n",
    "plt.show()"
   ]
  },
  {
   "cell_type": "code",
   "execution_count": 18,
   "id": "fc1d2448",
   "metadata": {
    "scrolled": false
   },
   "outputs": [
    {
     "name": "stdout",
     "output_type": "stream",
     "text": [
      "9/9 [==============================] - 1s 123ms/step\n"
     ]
    },
    {
     "data": {
      "image/png": "[encoded data removed]",
      "text/plain": [
       "<Figure size 640x480 with 1 Axes>"
      ]
     },
     "metadata": {},
     "output_type": "display_data"
    }
   ],
   "source": [
    "pred = cnn_model.predict(test_x)\n",
    "inv_test_y = standard_scaler_y.inverse_transform(test_y)\n",
    "inv_pred = standard_scaler_y.inverse_transform(pred)\n",
    "\n",
    "x_ax = range(len(inv_pred))\n",
    "plt.scatter(x_ax, inv_test_y, s=5, color=\"blue\", label=\"original\")\n",
    "plt.plot(x_ax, inv_pred, lw=0.8, color=\"red\", label=\"predicted\")\n",
    "plt.legend()\n",
    "plt.show()"
   ]
  },
  {
   "cell_type": "code",
   "execution_count": 19,
   "id": "7a75c59a",
   "metadata": {},
   "outputs": [
    {
     "name": "stdout",
     "output_type": "stream",
     "text": [
      "RMSE: 6289.7226\n"
     ]
    }
   ],
   "source": [
    "print(\"RMSE: %.4f\" % mean_squared_error(inv_test_y, inv_pred)**(1/2))"
   ]
  },
  {
   "cell_type": "code",
   "execution_count": null,
   "id": "cad13b48",
   "metadata": {},
   "outputs": [],
   "source": []
  }
 ],
 "metadata": {
  "kernelspec": {
   "display_name": "Python 3 (ipykernel)",
   "language": "python",
   "name": "python3"
  },
  "language_info": {
   "codemirror_mode": {
    "name": "ipython",
    "version": 3
   },
   "file_extension": ".py",
   "mimetype": "text/x-python",
   "name": "python",
   "nbconvert_exporter": "python",
   "pygments_lexer": "ipython3",
   "version": "3.8.16"
  }
 },
 "nbformat": 4,
 "nbformat_minor": 5
}
